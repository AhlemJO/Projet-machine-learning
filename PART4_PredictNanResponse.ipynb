{
 "cells": [
  {
   "cell_type": "markdown",
   "metadata": {},
   "source": [
    "# PART 4   : Predir la réponse d une question de type OUI/NON"
   ]
  },
  {
   "cell_type": "markdown",
   "metadata": {},
   "source": [
    "Pour cette partie, on va utiliser la question numéro 5 :\n",
    "    - Avez-vous pour vos déplacements quotidiens la possibilité de recourir \n",
    "    à des solutions de mobilité alternatives à la voiture individuelle comme les transports en commun,\n",
    "    le covoiturage, l auto-partage, le transport à la demande, le vélo, etc. ?\n",
    "\n",
    "On constaté qu il y a un nombre considerable de participants qui n ont pas donné leur reponse pour cette question.\n",
    "Pour cela, on va essayer de predir leurs reponses en utilisant les autres réponses qu ils ont fourni. \n",
    "\n",
    "Pour cette fin, nous allons  utilisé la colonne title et les reponses aux questionx 6,7 et 8 puisque ils sont \n",
    "en relation avec la question 5."
   ]
  },
  {
   "cell_type": "markdown",
   "metadata": {},
   "source": [
    "    Question 6 :  Si oui, que faudrait-il faire pour vous convaincre ou vous aider à utiliser ces solutions alternatives ?\n",
    "\n",
    "    Question 7 :  Si non, quelles sont les solutions de mobilité alternatives que vous souhaiteriez pouvoir utiliser ?\n",
    "    \n",
    "    Question 8 :  Et qui doit selon vous se charger de vous proposer ce type de solutions alternatives ?"
   ]
  },
  {
   "cell_type": "markdown",
   "metadata": {},
   "source": [
    "# Les librairies nécessaires "
   ]
  },
  {
   "cell_type": "code",
   "execution_count": 18,
   "metadata": {},
   "outputs": [
    {
     "name": "stderr",
     "output_type": "stream",
     "text": [
      "[nltk_data] Downloading package punkt to\n",
      "[nltk_data]     C:\\Users\\ahlem\\AppData\\Roaming\\nltk_data...\n",
      "[nltk_data]   Package punkt is already up-to-date!\n",
      "[nltk_data] Downloading package stopwords to\n",
      "[nltk_data]     C:\\Users\\ahlem\\AppData\\Roaming\\nltk_data...\n",
      "[nltk_data]   Package stopwords is already up-to-date!\n"
     ]
    }
   ],
   "source": [
    "import pandas as pd\n",
    "import numpy as np\n",
    "import matplotlib\n",
    "import matplotlib.pyplot as plt\n",
    "matplotlib.rcParams['figure.figsize'] = (20.0, 10.0)\n",
    "\n",
    "\n",
    "##Librairies for preprocessing and evaluation of performance\n",
    "\n",
    "import nltk\n",
    "import re\n",
    "nltk.download('punkt')\n",
    "nltk.download('stopwords')\n",
    "from nltk.tokenize import sent_tokenize, word_tokenize\n",
    "from nltk.corpus import stopwords\n",
    "from keras.preprocessing.text import Tokenizer\n",
    "from sklearn.model_selection import train_test_split\n",
    "from keras.preprocessing.text import Tokenizer\n",
    "from keras.preprocessing.sequence import pad_sequences\n",
    "from sklearn.metrics import confusion_matrix\n",
    "from sklearn.utils import class_weight\n",
    "\n",
    "##Librairies for RNN\n",
    "from keras import layers, models, optimizers\n",
    "from keras.models import Sequential, Model\n",
    "from keras.layers import Dense, Embedding, LSTM, SpatialDropout1D, Input, concatenate, Dropout, GRU\n",
    "from tensorflow.python.keras.optimizers import  RMSprop\n",
    "from keras.utils.np_utils import to_categorical\n",
    "from keras.callbacks import EarlyStopping\n",
    "from tensorflow.python.keras.optimizers import Adam\n",
    "from sklearn import metrics\n",
    "from keras.callbacks import EarlyStopping"
   ]
  },
  {
   "cell_type": "code",
   "execution_count": 3,
   "metadata": {},
   "outputs": [],
   "source": [
    "import warnings\n",
    "warnings.filterwarnings('ignore')"
   ]
  },
  {
   "cell_type": "code",
   "execution_count": 4,
   "metadata": {},
   "outputs": [
    {
     "data": {
      "text/html": [
       "<div>\n",
       "<style scoped>\n",
       "    .dataframe tbody tr th:only-of-type {\n",
       "        vertical-align: middle;\n",
       "    }\n",
       "\n",
       "    .dataframe tbody tr th {\n",
       "        vertical-align: top;\n",
       "    }\n",
       "\n",
       "    .dataframe thead th {\n",
       "        text-align: right;\n",
       "    }\n",
       "</style>\n",
       "<table border=\"1\" class=\"dataframe\">\n",
       "  <thead>\n",
       "    <tr style=\"text-align: right;\">\n",
       "      <th></th>\n",
       "      <th>id</th>\n",
       "      <th>reference</th>\n",
       "      <th>title</th>\n",
       "      <th>createdAt</th>\n",
       "      <th>publishedAt</th>\n",
       "      <th>updatedAt</th>\n",
       "      <th>trashed</th>\n",
       "      <th>trashedStatus</th>\n",
       "      <th>authorId</th>\n",
       "      <th>authorType</th>\n",
       "      <th>...</th>\n",
       "      <th>QUXVlc3Rpb246MTUw - Qu'est-ce qui pourrait vous inciter à changer vos comportements comme par exemple mieux entretenir et régler votre chauffage, modifier votre manière de conduire ou renoncer à prendre votre véhicule pour de très petites distances ?</th>\n",
       "      <th>QUXVlc3Rpb246MTUx - Quelles seraient pour vous les solutions les plus simples et les plus supportables sur un plan financier pour vous inciter à changer vos comportements ?</th>\n",
       "      <th>QUXVlc3Rpb246MTUy - Par rapport à votre mode de chauffage actuel, pensez-vous qu'il existe des solutions alternatives plus écologiques ?</th>\n",
       "      <th>QUXVlc3Rpb246MTUz - Si oui, que faudrait-il faire pour vous convaincre ou vous aider à changer de mode de chauffage ?</th>\n",
       "      <th>QUXVlc3Rpb246MTU0 - Avez-vous pour vos déplacements quotidiens la possibilité de recourir à des solutions de mobilité alternatives à la voiture individuelle comme les transports en commun, le covoiturage, l'auto-partage, le transport à la demande, le vélo, etc. ?</th>\n",
       "      <th>QUXVlc3Rpb246MTU1 - Si oui, que faudrait-il faire pour vous convaincre ou vous aider à utiliser ces solutions alternatives ?</th>\n",
       "      <th>QUXVlc3Rpb246MjA3 - Si non, quelles sont les solutions de mobilité alternatives que vous souhaiteriez pouvoir utiliser ?</th>\n",
       "      <th>QUXVlc3Rpb246MTU3 - Et qui doit selon vous se charger de vous proposer ce type de solutions alternatives ?</th>\n",
       "      <th>QUXVlc3Rpb246MTU4 - Que pourrait faire la France pour faire partager ses choix en matière d'environnement au niveau européen et international ?</th>\n",
       "      <th>QUXVlc3Rpb246MTU5 - Y a-t-il d'autres points sur la transition écologique sur lesquels vous souhaiteriez vous exprimer ?</th>\n",
       "    </tr>\n",
       "  </thead>\n",
       "  <tbody>\n",
       "    <tr>\n",
       "      <th>0</th>\n",
       "      <td>UHJvcG9zYWw6ZmZlN2MwNzktMWUyMC0xMWU5LTk0ZDItZm...</td>\n",
       "      <td>2-4</td>\n",
       "      <td>transition écologique</td>\n",
       "      <td>2019-01-22 09:37:49</td>\n",
       "      <td>2019-01-22 09:37:49</td>\n",
       "      <td>NaN</td>\n",
       "      <td>False</td>\n",
       "      <td>NaN</td>\n",
       "      <td>VXNlcjoxMTQwMTc0YS0xZTFmLTExZTktOTRkMi1mYTE2M2...</td>\n",
       "      <td>Citoyen / Citoyenne</td>\n",
       "      <td>...</td>\n",
       "      <td>NaN</td>\n",
       "      <td>NaN</td>\n",
       "      <td>NaN</td>\n",
       "      <td>NaN</td>\n",
       "      <td>NaN</td>\n",
       "      <td>NaN</td>\n",
       "      <td>NaN</td>\n",
       "      <td>NaN</td>\n",
       "      <td>Enseignement du tri sélectif à l'école</td>\n",
       "      <td>Multiplier les centrales géothermiques</td>\n",
       "    </tr>\n",
       "    <tr>\n",
       "      <th>1</th>\n",
       "      <td>UHJvcG9zYWw6M2RmZmUxZjMtMWUyMS0xMWU5LTk0ZDItZm...</td>\n",
       "      <td>2-5</td>\n",
       "      <td>La surpopulation</td>\n",
       "      <td>2019-01-22 09:39:33</td>\n",
       "      <td>2019-01-22 09:39:33</td>\n",
       "      <td>NaN</td>\n",
       "      <td>False</td>\n",
       "      <td>NaN</td>\n",
       "      <td>VXNlcjpjOWYxZWQ1NS0xYzEwLTExZTktOTRkMi1mYTE2M2...</td>\n",
       "      <td>Citoyen / Citoyenne</td>\n",
       "      <td>...</td>\n",
       "      <td>NaN</td>\n",
       "      <td>NaN</td>\n",
       "      <td>NaN</td>\n",
       "      <td>NaN</td>\n",
       "      <td>NaN</td>\n",
       "      <td>NaN</td>\n",
       "      <td>NaN</td>\n",
       "      <td>NaN</td>\n",
       "      <td>Mettre en oeuvre au niveau national ses engage...</td>\n",
       "      <td>Les problèmes auxquels se trouve confronté l’e...</td>\n",
       "    </tr>\n",
       "    <tr>\n",
       "      <th>2</th>\n",
       "      <td>UHJvcG9zYWw6NDg1YWUxYjItMWUyMS0xMWU5LTk0ZDItZm...</td>\n",
       "      <td>2-6</td>\n",
       "      <td>climat</td>\n",
       "      <td>2019-01-22 09:39:50</td>\n",
       "      <td>2019-01-22 09:39:50</td>\n",
       "      <td>NaN</td>\n",
       "      <td>False</td>\n",
       "      <td>NaN</td>\n",
       "      <td>VXNlcjozZjlhNzAwOS0xYTc2LTExZTktOTRkMi1mYTE2M2...</td>\n",
       "      <td>Citoyen / Citoyenne</td>\n",
       "      <td>...</td>\n",
       "      <td>développer  les transports en commun ,</td>\n",
       "      <td>NaN</td>\n",
       "      <td>Non</td>\n",
       "      <td>NaN</td>\n",
       "      <td>Oui</td>\n",
       "      <td>NaN</td>\n",
       "      <td>Les transports en commun|L'auto partage|Le tra...</td>\n",
       "      <td>NaN</td>\n",
       "      <td>NaN</td>\n",
       "      <td>NaN</td>\n",
       "    </tr>\n",
       "    <tr>\n",
       "      <th>3</th>\n",
       "      <td>UHJvcG9zYWw6NTk2Nzk5MmItMWUyMS0xMWU5LTk0ZDItZm...</td>\n",
       "      <td>2-7</td>\n",
       "      <td>POLLUTION AIR EAU</td>\n",
       "      <td>2019-01-22 09:40:19</td>\n",
       "      <td>2019-01-22 09:40:19</td>\n",
       "      <td>NaN</td>\n",
       "      <td>False</td>\n",
       "      <td>NaN</td>\n",
       "      <td>VXNlcjozOWQwNzJjNC0xZDEwLTExZTktOTRkMi1mYTE2M2...</td>\n",
       "      <td>Citoyen / Citoyenne</td>\n",
       "      <td>...</td>\n",
       "      <td>NaN</td>\n",
       "      <td>Plus de transports publics dans les petites co...</td>\n",
       "      <td>Non</td>\n",
       "      <td>NaN</td>\n",
       "      <td>Non</td>\n",
       "      <td>Le co-voiturage ne correspond pas toujours aux...</td>\n",
       "      <td>Les transports en commun</td>\n",
       "      <td>L'Etat</td>\n",
       "      <td>Elle n'a aucun pouvoir. Impossible de contrain...</td>\n",
       "      <td>NaN</td>\n",
       "    </tr>\n",
       "    <tr>\n",
       "      <th>4</th>\n",
       "      <td>UHJvcG9zYWw6ODU5NWMyOTYtMWUyMS0xMWU5LTk0ZDItZm...</td>\n",
       "      <td>2-8</td>\n",
       "      <td>Economie vs Ecologie</td>\n",
       "      <td>2019-01-22 09:41:33</td>\n",
       "      <td>2019-01-22 09:41:33</td>\n",
       "      <td>NaN</td>\n",
       "      <td>False</td>\n",
       "      <td>NaN</td>\n",
       "      <td>VXNlcjo3M2YxN2NlZS0xZDRiLTExZTktOTRkMi1mYTE2M2...</td>\n",
       "      <td>Citoyen / Citoyenne</td>\n",
       "      <td>...</td>\n",
       "      <td>Aménagement de piste cyclable, développement d...</td>\n",
       "      <td>Détaxer le mode de chauffage écologique, une a...</td>\n",
       "      <td>Oui</td>\n",
       "      <td>une aide significative pour de l'éolien ou du ...</td>\n",
       "      <td>Non</td>\n",
       "      <td>Une piste cyclable pour éviter de risquer ma v...</td>\n",
       "      <td>Les transports en commun|Le covoiturage|Le vélo</td>\n",
       "      <td>La commune, le département, la région</td>\n",
       "      <td>Demander à Nicolas Hulot</td>\n",
       "      <td>Une vrai politique écologique et non économique</td>\n",
       "    </tr>\n",
       "  </tbody>\n",
       "</table>\n",
       "<p>5 rows × 27 columns</p>\n",
       "</div>"
      ],
      "text/plain": [
       "                                                  id reference  \\\n",
       "0  UHJvcG9zYWw6ZmZlN2MwNzktMWUyMC0xMWU5LTk0ZDItZm...       2-4   \n",
       "1  UHJvcG9zYWw6M2RmZmUxZjMtMWUyMS0xMWU5LTk0ZDItZm...       2-5   \n",
       "2  UHJvcG9zYWw6NDg1YWUxYjItMWUyMS0xMWU5LTk0ZDItZm...       2-6   \n",
       "3  UHJvcG9zYWw6NTk2Nzk5MmItMWUyMS0xMWU5LTk0ZDItZm...       2-7   \n",
       "4  UHJvcG9zYWw6ODU5NWMyOTYtMWUyMS0xMWU5LTk0ZDItZm...       2-8   \n",
       "\n",
       "                   title            createdAt          publishedAt updatedAt  \\\n",
       "0  transition écologique  2019-01-22 09:37:49  2019-01-22 09:37:49       NaN   \n",
       "1       La surpopulation  2019-01-22 09:39:33  2019-01-22 09:39:33       NaN   \n",
       "2                 climat  2019-01-22 09:39:50  2019-01-22 09:39:50       NaN   \n",
       "3      POLLUTION AIR EAU  2019-01-22 09:40:19  2019-01-22 09:40:19       NaN   \n",
       "4   Economie vs Ecologie  2019-01-22 09:41:33  2019-01-22 09:41:33       NaN   \n",
       "\n",
       "   trashed trashedStatus                                           authorId  \\\n",
       "0    False           NaN  VXNlcjoxMTQwMTc0YS0xZTFmLTExZTktOTRkMi1mYTE2M2...   \n",
       "1    False           NaN  VXNlcjpjOWYxZWQ1NS0xYzEwLTExZTktOTRkMi1mYTE2M2...   \n",
       "2    False           NaN  VXNlcjozZjlhNzAwOS0xYTc2LTExZTktOTRkMi1mYTE2M2...   \n",
       "3    False           NaN  VXNlcjozOWQwNzJjNC0xZDEwLTExZTktOTRkMi1mYTE2M2...   \n",
       "4    False           NaN  VXNlcjo3M2YxN2NlZS0xZDRiLTExZTktOTRkMi1mYTE2M2...   \n",
       "\n",
       "            authorType  \\\n",
       "0  Citoyen / Citoyenne   \n",
       "1  Citoyen / Citoyenne   \n",
       "2  Citoyen / Citoyenne   \n",
       "3  Citoyen / Citoyenne   \n",
       "4  Citoyen / Citoyenne   \n",
       "\n",
       "                                                            ...                                                             \\\n",
       "0                                                           ...                                                              \n",
       "1                                                           ...                                                              \n",
       "2                                                           ...                                                              \n",
       "3                                                           ...                                                              \n",
       "4                                                           ...                                                              \n",
       "\n",
       "   QUXVlc3Rpb246MTUw - Qu'est-ce qui pourrait vous inciter à changer vos comportements comme par exemple mieux entretenir et régler votre chauffage, modifier votre manière de conduire ou renoncer à prendre votre véhicule pour de très petites distances ?  \\\n",
       "0                                                NaN                                                                                                                                                                                                            \n",
       "1                                                NaN                                                                                                                                                                                                            \n",
       "2             développer  les transports en commun ,                                                                                                                                                                                                            \n",
       "3                                                NaN                                                                                                                                                                                                            \n",
       "4  Aménagement de piste cyclable, développement d...                                                                                                                                                                                                            \n",
       "\n",
       "  QUXVlc3Rpb246MTUx - Quelles seraient pour vous les solutions les plus simples et les plus supportables sur un plan financier pour vous inciter à changer vos comportements ?  \\\n",
       "0                                                NaN                                                                                                                             \n",
       "1                                                NaN                                                                                                                             \n",
       "2                                                NaN                                                                                                                             \n",
       "3  Plus de transports publics dans les petites co...                                                                                                                             \n",
       "4  Détaxer le mode de chauffage écologique, une a...                                                                                                                             \n",
       "\n",
       "  QUXVlc3Rpb246MTUy - Par rapport à votre mode de chauffage actuel, pensez-vous qu'il existe des solutions alternatives plus écologiques ?  \\\n",
       "0                                                NaN                                                                                         \n",
       "1                                                NaN                                                                                         \n",
       "2                                                Non                                                                                         \n",
       "3                                                Non                                                                                         \n",
       "4                                                Oui                                                                                         \n",
       "\n",
       "  QUXVlc3Rpb246MTUz - Si oui, que faudrait-il faire pour vous convaincre ou vous aider à changer de mode de chauffage ?  \\\n",
       "0                                                NaN                                                                      \n",
       "1                                                NaN                                                                      \n",
       "2                                                NaN                                                                      \n",
       "3                                                NaN                                                                      \n",
       "4  une aide significative pour de l'éolien ou du ...                                                                      \n",
       "\n",
       "  QUXVlc3Rpb246MTU0 - Avez-vous pour vos déplacements quotidiens la possibilité de recourir à des solutions de mobilité alternatives à la voiture individuelle comme les transports en commun, le covoiturage, l'auto-partage, le transport à la demande, le vélo, etc. ?  \\\n",
       "0                                                NaN                                                                                                                                                                                                                        \n",
       "1                                                NaN                                                                                                                                                                                                                        \n",
       "2                                                Oui                                                                                                                                                                                                                        \n",
       "3                                                Non                                                                                                                                                                                                                        \n",
       "4                                                Non                                                                                                                                                                                                                        \n",
       "\n",
       "  QUXVlc3Rpb246MTU1 - Si oui, que faudrait-il faire pour vous convaincre ou vous aider à utiliser ces solutions alternatives ?  \\\n",
       "0                                                NaN                                                                             \n",
       "1                                                NaN                                                                             \n",
       "2                                                NaN                                                                             \n",
       "3  Le co-voiturage ne correspond pas toujours aux...                                                                             \n",
       "4  Une piste cyclable pour éviter de risquer ma v...                                                                             \n",
       "\n",
       "  QUXVlc3Rpb246MjA3 - Si non, quelles sont les solutions de mobilité alternatives que vous souhaiteriez pouvoir utiliser ?  \\\n",
       "0                                                NaN                                                                         \n",
       "1                                                NaN                                                                         \n",
       "2  Les transports en commun|L'auto partage|Le tra...                                                                         \n",
       "3                           Les transports en commun                                                                         \n",
       "4    Les transports en commun|Le covoiturage|Le vélo                                                                         \n",
       "\n",
       "  QUXVlc3Rpb246MTU3 - Et qui doit selon vous se charger de vous proposer ce type de solutions alternatives ?  \\\n",
       "0                                                NaN                                                           \n",
       "1                                                NaN                                                           \n",
       "2                                                NaN                                                           \n",
       "3                                             L'Etat                                                           \n",
       "4              La commune, le département, la région                                                           \n",
       "\n",
       "  QUXVlc3Rpb246MTU4 - Que pourrait faire la France pour faire partager ses choix en matière d'environnement au niveau européen et international ?  \\\n",
       "0             Enseignement du tri sélectif à l'école                                                                                                \n",
       "1  Mettre en oeuvre au niveau national ses engage...                                                                                                \n",
       "2                                                NaN                                                                                                \n",
       "3  Elle n'a aucun pouvoir. Impossible de contrain...                                                                                                \n",
       "4                           Demander à Nicolas Hulot                                                                                                \n",
       "\n",
       "  QUXVlc3Rpb246MTU5 - Y a-t-il d'autres points sur la transition écologique sur lesquels vous souhaiteriez vous exprimer ?  \n",
       "0             Multiplier les centrales géothermiques                                                                        \n",
       "1  Les problèmes auxquels se trouve confronté l’e...                                                                        \n",
       "2                                                NaN                                                                        \n",
       "3                                                NaN                                                                        \n",
       "4    Une vrai politique écologique et non économique                                                                        \n",
       "\n",
       "[5 rows x 27 columns]"
      ]
     },
     "execution_count": 4,
     "metadata": {},
     "output_type": "execute_result"
    }
   ],
   "source": [
    "environment_pd = pd.read_csv('LA_TRANSITION_ECOLOGIQUE.csv', low_memory=False)  ##Charger la base de données\n",
    "environment_pd.head()"
   ]
  },
  {
   "cell_type": "markdown",
   "metadata": {},
   "source": [
    "# Defining des nouvelles entêtes pour une manipulation facile"
   ]
  },
  {
   "cell_type": "code",
   "execution_count": 5,
   "metadata": {},
   "outputs": [
    {
     "data": {
      "text/html": [
       "<div>\n",
       "<style scoped>\n",
       "    .dataframe tbody tr th:only-of-type {\n",
       "        vertical-align: middle;\n",
       "    }\n",
       "\n",
       "    .dataframe tbody tr th {\n",
       "        vertical-align: top;\n",
       "    }\n",
       "\n",
       "    .dataframe thead th {\n",
       "        text-align: right;\n",
       "    }\n",
       "</style>\n",
       "<table border=\"1\" class=\"dataframe\">\n",
       "  <thead>\n",
       "    <tr style=\"text-align: right;\">\n",
       "      <th></th>\n",
       "      <th>title</th>\n",
       "      <th>YES/NO Question</th>\n",
       "      <th>q6</th>\n",
       "      <th>q7</th>\n",
       "      <th>q8</th>\n",
       "    </tr>\n",
       "  </thead>\n",
       "  <tbody>\n",
       "    <tr>\n",
       "      <th>0</th>\n",
       "      <td>transition écologique</td>\n",
       "      <td>NaN</td>\n",
       "      <td>NaN</td>\n",
       "      <td>NaN</td>\n",
       "      <td>NaN</td>\n",
       "    </tr>\n",
       "    <tr>\n",
       "      <th>1</th>\n",
       "      <td>La surpopulation</td>\n",
       "      <td>NaN</td>\n",
       "      <td>NaN</td>\n",
       "      <td>NaN</td>\n",
       "      <td>NaN</td>\n",
       "    </tr>\n",
       "    <tr>\n",
       "      <th>2</th>\n",
       "      <td>climat</td>\n",
       "      <td>Non</td>\n",
       "      <td>NaN</td>\n",
       "      <td>développer  les transports en commun ,</td>\n",
       "      <td>NaN</td>\n",
       "    </tr>\n",
       "    <tr>\n",
       "      <th>3</th>\n",
       "      <td>POLLUTION AIR EAU</td>\n",
       "      <td>Non</td>\n",
       "      <td>NaN</td>\n",
       "      <td>NaN</td>\n",
       "      <td>Plus de transports publics dans les petites co...</td>\n",
       "    </tr>\n",
       "    <tr>\n",
       "      <th>4</th>\n",
       "      <td>Economie vs Ecologie</td>\n",
       "      <td>Oui</td>\n",
       "      <td>En consommant autrement, en vivant autrement.</td>\n",
       "      <td>Aménagement de piste cyclable, développement d...</td>\n",
       "      <td>Détaxer le mode de chauffage écologique, une a...</td>\n",
       "    </tr>\n",
       "  </tbody>\n",
       "</table>\n",
       "</div>"
      ],
      "text/plain": [
       "                   title YES/NO Question  \\\n",
       "0  transition écologique             NaN   \n",
       "1       La surpopulation             NaN   \n",
       "2                 climat             Non   \n",
       "3      POLLUTION AIR EAU             Non   \n",
       "4   Economie vs Ecologie             Oui   \n",
       "\n",
       "                                              q6  \\\n",
       "0                                            NaN   \n",
       "1                                            NaN   \n",
       "2                                            NaN   \n",
       "3                                            NaN   \n",
       "4  En consommant autrement, en vivant autrement.   \n",
       "\n",
       "                                                  q7  \\\n",
       "0                                                NaN   \n",
       "1                                                NaN   \n",
       "2             développer  les transports en commun ,   \n",
       "3                                                NaN   \n",
       "4  Aménagement de piste cyclable, développement d...   \n",
       "\n",
       "                                                  q8  \n",
       "0                                                NaN  \n",
       "1                                                NaN  \n",
       "2                                                NaN  \n",
       "3  Plus de transports publics dans les petites co...  \n",
       "4  Détaxer le mode de chauffage écologique, une a...  "
      ]
     },
     "execution_count": 5,
     "metadata": {},
     "output_type": "execute_result"
    }
   ],
   "source": [
    "environment_pd.columns= ['id', 'reference', 'title', 'createdAt', 'publishedAt', 'updatedAt','trashed', 'trashedStatus', 'authorId', 'authorType', 'authorZipCode', 'q1', 'q2', 'q1','q4','YES/NO Question','q6','q7','q8','q9','q10','q11','q12','q13','q14','q15','q16']\n",
    "reduced_dataset_df = environment_pd[[ 'title',  'YES/NO Question','q6','q7','q8']]\n",
    "reduced_dataset_df.head()"
   ]
  },
  {
   "cell_type": "markdown",
   "metadata": {},
   "source": [
    "### Extraire les reponses null pour les predirs après."
   ]
  },
  {
   "cell_type": "code",
   "execution_count": 115,
   "metadata": {},
   "outputs": [
    {
     "data": {
      "text/html": [
       "<div>\n",
       "<style scoped>\n",
       "    .dataframe tbody tr th:only-of-type {\n",
       "        vertical-align: middle;\n",
       "    }\n",
       "\n",
       "    .dataframe tbody tr th {\n",
       "        vertical-align: top;\n",
       "    }\n",
       "\n",
       "    .dataframe thead th {\n",
       "        text-align: right;\n",
       "    }\n",
       "</style>\n",
       "<table border=\"1\" class=\"dataframe\">\n",
       "  <thead>\n",
       "    <tr style=\"text-align: right;\">\n",
       "      <th></th>\n",
       "      <th>title</th>\n",
       "      <th>YES/NO Question</th>\n",
       "      <th>q6</th>\n",
       "      <th>q7</th>\n",
       "      <th>q8</th>\n",
       "    </tr>\n",
       "  </thead>\n",
       "  <tbody>\n",
       "    <tr>\n",
       "      <th>85</th>\n",
       "      <td>Retour au raisonnable</td>\n",
       "      <td>NaN</td>\n",
       "      <td>Mon jardin est cultivé en permaculture.  pesti...</td>\n",
       "      <td>Avoir une solution de rechange pratique. ex tr...</td>\n",
       "      <td>Plus d'aides pour acquisition / location vélo,...</td>\n",
       "    </tr>\n",
       "    <tr>\n",
       "      <th>339</th>\n",
       "      <td>Transition écologique   une génération pou y a...</td>\n",
       "      <td>NaN</td>\n",
       "      <td>J 'aimerai bien mais ma ville Marseille n' pas...</td>\n",
       "      <td>\\tTransport public inclure dans nos impôts lo...</td>\n",
       "      <td>que les grands corps d'état régions et départe...</td>\n",
       "    </tr>\n",
       "    <tr>\n",
       "      <th>693</th>\n",
       "      <td>arretez les doctrinnaires</td>\n",
       "      <td>NaN</td>\n",
       "      <td>je le fait deja</td>\n",
       "      <td>je le fait deja</td>\n",
       "      <td>devellopper les parkings de proximite, surtout...</td>\n",
       "    </tr>\n",
       "    <tr>\n",
       "      <th>1695</th>\n",
       "      <td>Ecologie</td>\n",
       "      <td>NaN</td>\n",
       "      <td>Tri sélectif, transport en commun, limiter le ...</td>\n",
       "      <td>Une meilleur approche du tri sélectif et un dé...</td>\n",
       "      <td>Le système de consigne ne pénalise personne et...</td>\n",
       "    </tr>\n",
       "    <tr>\n",
       "      <th>1802</th>\n",
       "      <td>Préparer les générations futures au changement...</td>\n",
       "      <td>NaN</td>\n",
       "      <td>J'ai supprimé certains aliments de mon panier ...</td>\n",
       "      <td>Des avantages fiscaux</td>\n",
       "      <td>Généraliser le télétravail lorsque cela est po...</td>\n",
       "    </tr>\n",
       "  </tbody>\n",
       "</table>\n",
       "</div>"
      ],
      "text/plain": [
       "                                                  title YES/NO Question  \\\n",
       "85                                Retour au raisonnable             NaN   \n",
       "339   Transition écologique   une génération pou y a...             NaN   \n",
       "693                           arretez les doctrinnaires             NaN   \n",
       "1695                                           Ecologie             NaN   \n",
       "1802  Préparer les générations futures au changement...             NaN   \n",
       "\n",
       "                                                     q6  \\\n",
       "85    Mon jardin est cultivé en permaculture.  pesti...   \n",
       "339   J 'aimerai bien mais ma ville Marseille n' pas...   \n",
       "693                                     je le fait deja   \n",
       "1695  Tri sélectif, transport en commun, limiter le ...   \n",
       "1802  J'ai supprimé certains aliments de mon panier ...   \n",
       "\n",
       "                                                     q7  \\\n",
       "85    Avoir une solution de rechange pratique. ex tr...   \n",
       "339   \\tTransport public inclure dans nos impôts lo...   \n",
       "693                                     je le fait deja   \n",
       "1695  Une meilleur approche du tri sélectif et un dé...   \n",
       "1802                              Des avantages fiscaux   \n",
       "\n",
       "                                                     q8  \n",
       "85    Plus d'aides pour acquisition / location vélo,...  \n",
       "339   que les grands corps d'état régions et départe...  \n",
       "693   devellopper les parkings de proximite, surtout...  \n",
       "1695  Le système de consigne ne pénalise personne et...  \n",
       "1802  Généraliser le télétravail lorsque cela est po...  "
      ]
     },
     "execution_count": 115,
     "metadata": {},
     "output_type": "execute_result"
    }
   ],
   "source": [
    "nanResponse= reduced_dataset_df[reduced_dataset_df['YES/NO Question'].isnull()]  ##extraire les réponses null\n",
    "nanResponse= nanResponse.dropna(axis=0, subset=['q6','q7','q8'])        ###Eliminer les colonnes où il n ya aucune \n",
    "                                                                        ##réponse fournit pour les autres questions\n",
    "nanResponse.head()"
   ]
  },
  {
   "cell_type": "markdown",
   "metadata": {},
   "source": [
    "# Preparation de la base de données pour le model"
   ]
  },
  {
   "cell_type": "code",
   "execution_count": 7,
   "metadata": {},
   "outputs": [
    {
     "data": {
      "text/html": [
       "<div>\n",
       "<style scoped>\n",
       "    .dataframe tbody tr th:only-of-type {\n",
       "        vertical-align: middle;\n",
       "    }\n",
       "\n",
       "    .dataframe tbody tr th {\n",
       "        vertical-align: top;\n",
       "    }\n",
       "\n",
       "    .dataframe thead th {\n",
       "        text-align: right;\n",
       "    }\n",
       "</style>\n",
       "<table border=\"1\" class=\"dataframe\">\n",
       "  <thead>\n",
       "    <tr style=\"text-align: right;\">\n",
       "      <th></th>\n",
       "      <th>title</th>\n",
       "      <th>YES/NO Question</th>\n",
       "      <th>q6</th>\n",
       "      <th>q7</th>\n",
       "      <th>q8</th>\n",
       "    </tr>\n",
       "  </thead>\n",
       "  <tbody>\n",
       "    <tr>\n",
       "      <th>2</th>\n",
       "      <td>climat</td>\n",
       "      <td>Non</td>\n",
       "      <td>NaN</td>\n",
       "      <td>développer  les transports en commun ,</td>\n",
       "      <td>NaN</td>\n",
       "    </tr>\n",
       "    <tr>\n",
       "      <th>3</th>\n",
       "      <td>POLLUTION AIR EAU</td>\n",
       "      <td>Non</td>\n",
       "      <td>NaN</td>\n",
       "      <td>NaN</td>\n",
       "      <td>Plus de transports publics dans les petites co...</td>\n",
       "    </tr>\n",
       "    <tr>\n",
       "      <th>4</th>\n",
       "      <td>Economie vs Ecologie</td>\n",
       "      <td>Oui</td>\n",
       "      <td>En consommant autrement, en vivant autrement.</td>\n",
       "      <td>Aménagement de piste cyclable, développement d...</td>\n",
       "      <td>Détaxer le mode de chauffage écologique, une a...</td>\n",
       "    </tr>\n",
       "    <tr>\n",
       "      <th>5</th>\n",
       "      <td>égalité territoriale de traitement</td>\n",
       "      <td>Oui</td>\n",
       "      <td>en consommant moins de produits manufacturé à ...</td>\n",
       "      <td>déjà fait</td>\n",
       "      <td>NaN</td>\n",
       "    </tr>\n",
       "    <tr>\n",
       "      <th>6</th>\n",
       "      <td>Nous sommes les gardiens de la terre et des pa...</td>\n",
       "      <td>Oui</td>\n",
       "      <td>Plus aucun pesticide , marche à pied le plus s...</td>\n",
       "      <td>Transports en commun , reconstruction de ligne...</td>\n",
       "      <td>Baisse des impôts avec obligation de réaliser ...</td>\n",
       "    </tr>\n",
       "  </tbody>\n",
       "</table>\n",
       "</div>"
      ],
      "text/plain": [
       "                                               title YES/NO Question  \\\n",
       "2                                             climat             Non   \n",
       "3                                  POLLUTION AIR EAU             Non   \n",
       "4                               Economie vs Ecologie             Oui   \n",
       "5                 égalité territoriale de traitement             Oui   \n",
       "6  Nous sommes les gardiens de la terre et des pa...             Oui   \n",
       "\n",
       "                                                  q6  \\\n",
       "2                                                NaN   \n",
       "3                                                NaN   \n",
       "4      En consommant autrement, en vivant autrement.   \n",
       "5  en consommant moins de produits manufacturé à ...   \n",
       "6  Plus aucun pesticide , marche à pied le plus s...   \n",
       "\n",
       "                                                  q7  \\\n",
       "2             développer  les transports en commun ,   \n",
       "3                                                NaN   \n",
       "4  Aménagement de piste cyclable, développement d...   \n",
       "5                                          déjà fait   \n",
       "6  Transports en commun , reconstruction de ligne...   \n",
       "\n",
       "                                                  q8  \n",
       "2                                                NaN  \n",
       "3  Plus de transports publics dans les petites co...  \n",
       "4  Détaxer le mode de chauffage écologique, une a...  \n",
       "5                                                NaN  \n",
       "6  Baisse des impôts avec obligation de réaliser ...  "
      ]
     },
     "execution_count": 7,
     "metadata": {},
     "output_type": "execute_result"
    }
   ],
   "source": [
    "##Eliminer les reponses nulles\n",
    "reduced_dataset_df['YES/NO Question'] = reduced_dataset_df['YES/NO Question'].replace('nan', np.nan)\n",
    "data_df=reduced_dataset_df.dropna(axis=0, subset=['YES/NO Question'])\n",
    "data_df.head()"
   ]
  },
  {
   "cell_type": "code",
   "execution_count": 8,
   "metadata": {},
   "outputs": [],
   "source": [
    "## Remplacer les réponses OUI par 1 et NON par 0\n",
    "data_df['YES/NO Question'] = data_df['YES/NO Question'].replace('Non', '0')\n",
    "data_df['YES/NO Question'] = data_df['YES/NO Question'].replace('Oui', '1')\n"
   ]
  },
  {
   "cell_type": "markdown",
   "metadata": {},
   "source": [
    " Remplacer les réponses Null dans les autres questions par 'Pas de réponse' car il y des questions qui sont reliés à \n",
    " une reponse de type Oui et d'autres qui sont reliés à une réponse de type Non. Donc on aura des valeurs null mais qui portent une information utile."
   ]
  },
  {
   "cell_type": "code",
   "execution_count": 9,
   "metadata": {},
   "outputs": [
    {
     "data": {
      "text/html": [
       "<div>\n",
       "<style scoped>\n",
       "    .dataframe tbody tr th:only-of-type {\n",
       "        vertical-align: middle;\n",
       "    }\n",
       "\n",
       "    .dataframe tbody tr th {\n",
       "        vertical-align: top;\n",
       "    }\n",
       "\n",
       "    .dataframe thead th {\n",
       "        text-align: right;\n",
       "    }\n",
       "</style>\n",
       "<table border=\"1\" class=\"dataframe\">\n",
       "  <thead>\n",
       "    <tr style=\"text-align: right;\">\n",
       "      <th></th>\n",
       "      <th>title</th>\n",
       "      <th>YES/NO Question</th>\n",
       "      <th>q6</th>\n",
       "      <th>q7</th>\n",
       "      <th>q8</th>\n",
       "    </tr>\n",
       "  </thead>\n",
       "  <tbody>\n",
       "    <tr>\n",
       "      <th>2</th>\n",
       "      <td>climat</td>\n",
       "      <td>0</td>\n",
       "      <td>Pas de reponse</td>\n",
       "      <td>développer  les transports en commun ,</td>\n",
       "      <td>Pas de reponse</td>\n",
       "    </tr>\n",
       "    <tr>\n",
       "      <th>3</th>\n",
       "      <td>POLLUTION AIR EAU</td>\n",
       "      <td>0</td>\n",
       "      <td>Pas de reponse</td>\n",
       "      <td>Pas de reponse</td>\n",
       "      <td>Plus de transports publics dans les petites co...</td>\n",
       "    </tr>\n",
       "    <tr>\n",
       "      <th>4</th>\n",
       "      <td>Economie vs Ecologie</td>\n",
       "      <td>1</td>\n",
       "      <td>En consommant autrement, en vivant autrement.</td>\n",
       "      <td>Aménagement de piste cyclable, développement d...</td>\n",
       "      <td>Détaxer le mode de chauffage écologique, une a...</td>\n",
       "    </tr>\n",
       "    <tr>\n",
       "      <th>5</th>\n",
       "      <td>égalité territoriale de traitement</td>\n",
       "      <td>1</td>\n",
       "      <td>en consommant moins de produits manufacturé à ...</td>\n",
       "      <td>déjà fait</td>\n",
       "      <td>Pas de reponse</td>\n",
       "    </tr>\n",
       "    <tr>\n",
       "      <th>6</th>\n",
       "      <td>Nous sommes les gardiens de la terre et des pa...</td>\n",
       "      <td>1</td>\n",
       "      <td>Plus aucun pesticide , marche à pied le plus s...</td>\n",
       "      <td>Transports en commun , reconstruction de ligne...</td>\n",
       "      <td>Baisse des impôts avec obligation de réaliser ...</td>\n",
       "    </tr>\n",
       "  </tbody>\n",
       "</table>\n",
       "</div>"
      ],
      "text/plain": [
       "                                               title YES/NO Question  \\\n",
       "2                                             climat               0   \n",
       "3                                  POLLUTION AIR EAU               0   \n",
       "4                               Economie vs Ecologie               1   \n",
       "5                 égalité territoriale de traitement               1   \n",
       "6  Nous sommes les gardiens de la terre et des pa...               1   \n",
       "\n",
       "                                                  q6  \\\n",
       "2                                     Pas de reponse   \n",
       "3                                     Pas de reponse   \n",
       "4      En consommant autrement, en vivant autrement.   \n",
       "5  en consommant moins de produits manufacturé à ...   \n",
       "6  Plus aucun pesticide , marche à pied le plus s...   \n",
       "\n",
       "                                                  q7  \\\n",
       "2             développer  les transports en commun ,   \n",
       "3                                     Pas de reponse   \n",
       "4  Aménagement de piste cyclable, développement d...   \n",
       "5                                          déjà fait   \n",
       "6  Transports en commun , reconstruction de ligne...   \n",
       "\n",
       "                                                  q8  \n",
       "2                                     Pas de reponse  \n",
       "3  Plus de transports publics dans les petites co...  \n",
       "4  Détaxer le mode de chauffage écologique, une a...  \n",
       "5                                     Pas de reponse  \n",
       "6  Baisse des impôts avec obligation de réaliser ...  "
      ]
     },
     "execution_count": 9,
     "metadata": {},
     "output_type": "execute_result"
    }
   ],
   "source": [
    "data_df['q6'] = data_df['q6'].replace(np.nan, 'Pas de reponse')\n",
    "data_df['q7'] = data_df['q7'].replace(np.nan, 'Pas de reponse')\n",
    "data_df['q8'] = data_df['q8'].replace(np.nan, 'Pas de reponse')\n",
    "data_df.head()"
   ]
  },
  {
   "cell_type": "markdown",
   "metadata": {},
   "source": [
    "Deviser la dataset en features X et label Y\n",
    "X : contient toutes les réponses regroupées en une seule colonne"
   ]
  },
  {
   "cell_type": "code",
   "execution_count": 116,
   "metadata": {},
   "outputs": [],
   "source": [
    "concatenated_train = data_df['title'].map(str) +' ' +data_df['q6'].map(str) + ' '+data_df['q7'].map(str) +' '+ data_df['q8'].map(str)\n",
    "concatenated_nanResponse = nanResponse['title'].map(str) +' ' +nanResponse['q6'].map(str) + ' '+nanResponse['q7'].map(str) +' '+ nanResponse['q8'].map(str)\n",
    "\n",
    "X = pd.DataFrame(concatenated_train, columns=['response'])\n",
    "Y=data_df[['YES/NO Question']]\n",
    "\n",
    "X_nanResponse =  pd.DataFrame(concatenated_nanResponse, columns=['response'])\n"
   ]
  },
  {
   "cell_type": "code",
   "execution_count": 11,
   "metadata": {},
   "outputs": [
    {
     "data": {
      "text/plain": [
       "1    74801\n",
       "0     4450\n",
       "Name: YES/NO Question, dtype: int64"
      ]
     },
     "execution_count": 11,
     "metadata": {},
     "output_type": "execute_result"
    }
   ],
   "source": [
    "Y['YES/NO Question'].value_counts()  ##Evaluer le nombre des reponses OUI et le nombre des reponses NON"
   ]
  },
  {
   "cell_type": "markdown",
   "metadata": {},
   "source": [
    "On voit bien que la dataset est non équilibrée. Le nombre des réponses 'OUI' sont plus importants que les réponses NON.\n",
    "On essayera donc d'appliquer des poids pour pénaliser les erreurs dans le calcul du loss."
   ]
  },
  {
   "cell_type": "code",
   "execution_count": 12,
   "metadata": {},
   "outputs": [
    {
     "name": "stdout",
     "output_type": "stream",
     "text": [
      "[8.90460674 0.52974559]\n"
     ]
    }
   ],
   "source": [
    "class_weights = class_weight.compute_class_weight('balanced',np.unique(Y['YES/NO Question']),Y['YES/NO Question'])\n",
    "print(class_weights)"
   ]
  },
  {
   "cell_type": "markdown",
   "metadata": {},
   "source": [
    "# Clean the data"
   ]
  },
  {
   "cell_type": "markdown",
   "metadata": {},
   "source": [
    "### 2.1 ['Tokenize', 'the', 'data']"
   ]
  },
  {
   "cell_type": "code",
   "execution_count": 13,
   "metadata": {},
   "outputs": [],
   "source": [
    "def clean(X): #X column data\n",
    "    pd_list = list(X)\n",
    "    pd_list = [it.lower() for it in pd_list] # to lowercase\n",
    "    pd_list = [re.sub(r'ô','o',it) for it in pd_list] \n",
    "    pd_list = [re.sub(r'([^a-zéèûôàêô])',' ',it) for it in pd_list]\n",
    "\n",
    "  \n",
    "    return pd_list"
   ]
  },
  {
   "cell_type": "code",
   "execution_count": 14,
   "metadata": {},
   "outputs": [],
   "source": [
    "def tokenization(X_list):\n",
    "    tokenized_df = [word_tokenize(it) for it in X_list]\n",
    "   \n",
    "    return tokenized_df"
   ]
  },
  {
   "cell_type": "markdown",
   "metadata": {},
   "source": [
    "### 2.2  Stopwords removal"
   ]
  },
  {
   "cell_type": "code",
   "execution_count": 15,
   "metadata": {},
   "outputs": [],
   "source": [
    "\n",
    "#We added this list to give more sens to our results.\n",
    "other_stopwords = ['les','a','afin','alors', 'tout', 'tous', 'prends',\n",
    "                   'tre', 'si','doit','avoir','comme','leurs','faire','ils',\n",
    "                   'peut','bien','aussi','cela','gens', 'sans', \n",
    "                   'car', 'très', 'fait', '\\'', 'qu\\'', 'd\\'', 'l\\'', '\"', 'être', 'mai']\n",
    "\n",
    "stopWords = stopwords.words('french')\n",
    "stopWords.extend(other_stopwords)\n",
    "stopWords = set(stopWords)\n",
    "\n",
    "def remove_stopwords(X_list):\n",
    "    filtered_list =[]\n",
    "    for it in X_list:\n",
    "        \n",
    "        temp = []\n",
    "        for word in it:\n",
    "            if(word not in stopWords):\n",
    "                temp.append(word)\n",
    "        filtered_list.append(temp)\n",
    "        temp=[]\n",
    "     \n",
    "    return filtered_list"
   ]
  },
  {
   "cell_type": "code",
   "execution_count": 16,
   "metadata": {},
   "outputs": [],
   "source": [
    "### return column data cleaned and without stopwords\n",
    "def clean_remove_stopwords(column_data):\n",
    "    non_stopwords_data = remove_stopwords(tokenization(clean(column_data)))\n",
    "    non_tokenized = []\n",
    "    for l in non_stopwords_data:\n",
    "        non_tokenized.append(' '.join(l))\n",
    "  \n",
    "    return non_tokenized\n"
   ]
  },
  {
   "cell_type": "code",
   "execution_count": 117,
   "metadata": {},
   "outputs": [],
   "source": [
    "data_clean_df = pd.DataFrame()\n",
    "X_nanResponse_clean_df=pd.DataFrame()\n",
    "\n",
    "data_clean_df['response'] =clean_remove_stopwords(X['response'])   ##Eliminer stop words dans les données\n",
    "X_nanResponse_clean_df['response'] =clean_remove_stopwords(X_nanResponse['response'])  ### Eliminer les stops words dans les\n",
    "                                                                                       ### données des réponses non fournit"
   ]
  },
  {
   "cell_type": "code",
   "execution_count": 20,
   "metadata": {},
   "outputs": [
    {
     "data": {
      "text/html": [
       "<div>\n",
       "<style scoped>\n",
       "    .dataframe tbody tr th:only-of-type {\n",
       "        vertical-align: middle;\n",
       "    }\n",
       "\n",
       "    .dataframe tbody tr th {\n",
       "        vertical-align: top;\n",
       "    }\n",
       "\n",
       "    .dataframe thead th {\n",
       "        text-align: right;\n",
       "    }\n",
       "</style>\n",
       "<table border=\"1\" class=\"dataframe\">\n",
       "  <thead>\n",
       "    <tr style=\"text-align: right;\">\n",
       "      <th></th>\n",
       "      <th>response</th>\n",
       "    </tr>\n",
       "  </thead>\n",
       "  <tbody>\n",
       "    <tr>\n",
       "      <th>0</th>\n",
       "      <td>climat reponse développer transports commun re...</td>\n",
       "    </tr>\n",
       "    <tr>\n",
       "      <th>1</th>\n",
       "      <td>pollution air eau reponse reponse plus transpo...</td>\n",
       "    </tr>\n",
       "    <tr>\n",
       "      <th>2</th>\n",
       "      <td>economie vs ecologie consommant autrement viva...</td>\n",
       "    </tr>\n",
       "    <tr>\n",
       "      <th>3</th>\n",
       "      <td>égalité territoriale traitement consommant moi...</td>\n",
       "    </tr>\n",
       "    <tr>\n",
       "      <th>4</th>\n",
       "      <td>gardiens terre passeurs enfants plus aucun pes...</td>\n",
       "    </tr>\n",
       "  </tbody>\n",
       "</table>\n",
       "</div>"
      ],
      "text/plain": [
       "                                            response\n",
       "0  climat reponse développer transports commun re...\n",
       "1  pollution air eau reponse reponse plus transpo...\n",
       "2  economie vs ecologie consommant autrement viva...\n",
       "3  égalité territoriale traitement consommant moi...\n",
       "4  gardiens terre passeurs enfants plus aucun pes..."
      ]
     },
     "execution_count": 20,
     "metadata": {},
     "output_type": "execute_result"
    }
   ],
   "source": [
    "data_clean_df.head()"
   ]
  },
  {
   "cell_type": "markdown",
   "metadata": {},
   "source": [
    "### 2.3 Tokenization"
   ]
  },
  {
   "cell_type": "code",
   "execution_count": 21,
   "metadata": {},
   "outputs": [],
   "source": [
    "num_words = 20000\n",
    "tokenizer = Tokenizer(num_words=num_words)\n",
    "\n",
    "tokenizer.fit_on_texts(data_clean_df['response'])\n",
    "x_tokens = tokenizer.texts_to_sequences(data_clean_df['response'])"
   ]
  },
  {
   "cell_type": "code",
   "execution_count": 22,
   "metadata": {},
   "outputs": [],
   "source": [
    "## Chercher la valeur optimale pour la tokenization "
   ]
  },
  {
   "cell_type": "code",
   "execution_count": 23,
   "metadata": {},
   "outputs": [
    {
     "name": "stdout",
     "output_type": "stream",
     "text": [
      "The average number of tokens in a sequence is 41.42909237738325\n",
      "The maximum number of tokens in a sequence is 5317\n",
      "The chosen max tokens is 131\n",
      "The pourcentage of entries that dont reach the max tokens 0.9737290381193928\n"
     ]
    }
   ],
   "source": [
    "num_tokens = [len(tokens) for tokens in x_tokens]\n",
    "num_tokens = np.array(num_tokens)\n",
    "print('The average number of tokens in a sequence is {}'.format(np.mean(num_tokens)))\n",
    "print('The maximum number of tokens in a sequence is {}'.format(np.max(num_tokens)))\n",
    "\n",
    "max_tokens = np.mean(num_tokens) + 2 * np.std(num_tokens)\n",
    "max_tokens = int(max_tokens)\n",
    "print('The chosen max tokens is {}'.format(max_tokens))\n",
    "print('The pourcentage of entries that don''t reach the max tokens {}'.format(np.sum(num_tokens < max_tokens) / len(num_tokens)))"
   ]
  },
  {
   "cell_type": "code",
   "execution_count": 118,
   "metadata": {},
   "outputs": [
    {
     "name": "stdout",
     "output_type": "stream",
     "text": [
      "The new shape of our train data after padding is (79251, 131)\n"
     ]
    }
   ],
   "source": [
    "pad = 'pre'\n",
    "\n",
    "X_pad = pad_sequences(x_tokens, maxlen=max_tokens,padding=pad, truncating=pad) ##Convertir les réponses en des séquences de meme taille\n",
    "X_nanResponse_pad = pad_sequences(x_tokens,maxlen=max_tokens,padding=pad, truncating=pad)\n",
    "\n",
    "print('The new shape of our train data after padding is {}'.format(X_pad.shape))"
   ]
  },
  {
   "cell_type": "markdown",
   "metadata": {},
   "source": [
    "### 2.4 Definir le training set et le test set"
   ]
  },
  {
   "cell_type": "code",
   "execution_count": 25,
   "metadata": {},
   "outputs": [
    {
     "name": "stdout",
     "output_type": "stream",
     "text": [
      "(71325, 131) (71325, 1)\n",
      "(7926, 131) (7926, 1)\n"
     ]
    }
   ],
   "source": [
    "X_train, X_test, Y_train, Y_test = train_test_split(X_pad,Y, test_size = 0.10, random_state = 42)\n",
    "print(X_train.shape,Y_train.shape)\n",
    "print(X_test.shape,Y_test.shape)"
   ]
  },
  {
   "cell_type": "markdown",
   "metadata": {},
   "source": [
    "# Built The model"
   ]
  },
  {
   "cell_type": "markdown",
   "metadata": {},
   "source": [
    "Nous sommes maintenant prêts à créer le réseau de neurones récurrents (RNN). Nous allons utiliser l'API Keras."
   ]
  },
  {
   "cell_type": "markdown",
   "metadata": {},
   "source": [
    "\n",
    "La première couche du RNN est une couche dite d’incorporation qui convertit chaque jeton entier en un vecteur de valeurs.\n",
    "Cela est nécessaire car les entiers-jetons peuvent prendre des valeurs comprises entre 0 et 20000 pour un vocabulaire de \n",
    "20000 mots. Le RNN ne peut pas travailler sur des valeurs dans une plage si large. La couche d’incorporation fait partie \n",
    "du RNN et apprendra à mapper des mots ayant une signification sémantique similaire à des vecteurs d’incorporation similaires, \n",
    "comme nous le verrons plus loin.\n",
    "\n",
    "Nous définissons d’abord la taille du vecteur d’incorporation pour chaque jeton entier. Dans ce cas, nous avons défini la \n",
    "valeur sur 300, de sorte que chaque entier-jeton soit converti en un vecteur de longueur 300.\n"
   ]
  },
  {
   "cell_type": "code",
   "execution_count": 29,
   "metadata": {},
   "outputs": [],
   "source": [
    "embedding_size=300\n",
    "max_features = 20000 # how many unique words to use (i.e num rows in embedding vector)\n",
    "maxlen = 1000 # max number of words in a question to use\n",
    "\n",
    "model = Sequential()\n",
    "model.add(Embedding(input_dim=num_words,\n",
    "                    output_dim=embedding_size,\n",
    "                    input_length=max_tokens,\n",
    "                    name='layer_embedding'))\n",
    "model.add(GRU(units=16, return_sequences=True))  ## GRU model avec 16 outputs\n",
    "model.add(GRU(units=8, return_sequences=True))   ## GRU model avec 8 outputs\n",
    "model.add(GRU(units=4))                          ## GRU model avec 4 outputs\n",
    "model.add(Dense(1, activation='sigmoid'))\n",
    "optimizer = Adam(lr=1e-3)"
   ]
  },
  {
   "cell_type": "code",
   "execution_count": 33,
   "metadata": {},
   "outputs": [
    {
     "name": "stdout",
     "output_type": "stream",
     "text": [
      "_________________________________________________________________\n",
      "Layer (type)                 Output Shape              Param #   \n",
      "=================================================================\n",
      "layer_embedding (Embedding)  (None, 131, 300)          6000000   \n",
      "_________________________________________________________________\n",
      "gru_4 (GRU)                  (None, 131, 16)           15216     \n",
      "_________________________________________________________________\n",
      "gru_5 (GRU)                  (None, 131, 8)            600       \n",
      "_________________________________________________________________\n",
      "gru_6 (GRU)                  (None, 4)                 156       \n",
      "_________________________________________________________________\n",
      "dense_2 (Dense)              (None, 1)                 5         \n",
      "=================================================================\n",
      "Total params: 6,015,977\n",
      "Trainable params: 6,015,977\n",
      "Non-trainable params: 0\n",
      "_________________________________________________________________\n"
     ]
    }
   ],
   "source": [
    "model.compile(loss='binary_crossentropy',\n",
    "              optimizer='adam',\n",
    "              metrics=['accuracy'])\n",
    "model.summary()"
   ]
  },
  {
   "cell_type": "code",
   "execution_count": 34,
   "metadata": {},
   "outputs": [
    {
     "name": "stdout",
     "output_type": "stream",
     "text": [
      "Train on 67758 samples, validate on 3567 samples\n",
      "Epoch 1/2\n",
      "67758/67758 [==============================] - 296s 4ms/step - loss: 0.1582 - acc: 0.9554 - val_loss: 0.1224 - val_acc: 0.9622\n",
      "Epoch 2/2\n",
      "67758/67758 [==============================] - 282s 4ms/step - loss: 0.0886 - acc: 0.9716 - val_loss: 0.1169 - val_acc: 0.9602\n",
      "Wall time: 9min 41s\n"
     ]
    }
   ],
   "source": [
    "%%time\n",
    "history=model.fit(X_train, Y_train,           ##Compiler le model avec 2 epochs et batch size de 64.\n",
    "                  validation_split=0.05, epochs=2, \n",
    "                  batch_size=64, \n",
    "                  class_weight=class_weights, \n",
    "                  callbacks=[EarlyStopping(monitor='val_loss', \n",
    "                                           patience=3, min_delta=0.0001)])"
   ]
  },
  {
   "cell_type": "code",
   "execution_count": 35,
   "metadata": {},
   "outputs": [
    {
     "name": "stdout",
     "output_type": "stream",
     "text": [
      "7926/7926 [==============================] - 9s 1ms/step\n",
      "Wall time: 8.51 s\n"
     ]
    }
   ],
   "source": [
    "%%time\n",
    "result = model.evaluate(X_test, Y_test)   ###Evaluer le model"
   ]
  },
  {
   "cell_type": "markdown",
   "metadata": {},
   "source": [
    "# Test the perfermance "
   ]
  },
  {
   "cell_type": "code",
   "execution_count": 36,
   "metadata": {},
   "outputs": [
    {
     "name": "stdout",
     "output_type": "stream",
     "text": [
      "Test set\n",
      "  Loss: 0.110\n",
      "  Accuracy: 0.962\n"
     ]
    }
   ],
   "source": [
    "print('Test set\\n  Loss: {:0.3f}\\n  Accuracy: {:0.3f}'.format(result[0],result[1]))  ##Calcul de l'accuracy"
   ]
  },
  {
   "cell_type": "code",
   "execution_count": 37,
   "metadata": {},
   "outputs": [
    {
     "data": {
      "image/png": "[encoded data removed]",
      "text/plain": [
       "<Figure size 1440x720 with 1 Axes>"
      ]
     },
     "metadata": {
      "needs_background": "light"
     },
     "output_type": "display_data"
    },
    {
     "data": {
      "image/png": "[encoded data removed]",
      "text/plain": [
       "<Figure size 1440x720 with 1 Axes>"
      ]
     },
     "metadata": {
      "needs_background": "light"
     },
     "output_type": "display_data"
    }
   ],
   "source": [
    "plt.title('Loss')\n",
    "plt.plot(history.history['loss'], label='train')\n",
    "plt.plot(history.history['val_loss'], label='test')\n",
    "plt.legend()\n",
    "plt.show();\n",
    "\n",
    "plt.title('Accuracy')\n",
    "plt.plot(history.history['acc'], label='train')\n",
    "plt.plot(history.history['val_acc'], label='test')\n",
    "plt.legend()\n",
    "plt.show();\n",
    "\n",
    "THRESHHOLD = 0.5\n",
    "predicted = pd.DataFrame(model.predict(X_test))\n",
    "predicted[predicted<THRESHHOLD] = 0\n",
    "predicted[predicted>=THRESHHOLD] = 1"
   ]
  },
  {
   "cell_type": "code",
   "execution_count": 38,
   "metadata": {},
   "outputs": [],
   "source": [
    "predicted_values = predicted[0].values\n",
    "predicted_values = [int(i) for i in predicted_values]\n",
    "true_values = Y_test.values\n",
    "true_values = [int(i) for i in true_values]\n",
    "\n",
    "labels=[0, 1]\n",
    "cm = confusion_matrix(true_values, predicted_values, labels)"
   ]
  },
  {
   "cell_type": "code",
   "execution_count": 39,
   "metadata": {},
   "outputs": [],
   "source": [
    "def plot_confusion_matrix(cm,target_names,title='Confusion matrix',cmap=None,normalize=True):\n",
    "    import itertools\n",
    "    accuracy = np.trace(cm) / float(np.sum(cm))\n",
    "    misclass = 1 - accuracy\n",
    "\n",
    "    if cmap is None:\n",
    "        cmap = plt.get_cmap('Blues')\n",
    "\n",
    "    plt.figure(figsize=(8, 6))\n",
    "    plt.imshow(cm, interpolation='nearest', cmap=cmap)\n",
    "    plt.title(title)\n",
    "    plt.colorbar()\n",
    "\n",
    "    if target_names is not None:\n",
    "        tick_marks = np.arange(len(target_names))\n",
    "        plt.xticks(tick_marks, target_names, rotation=45)\n",
    "        plt.yticks(tick_marks, target_names)\n",
    "\n",
    "    if normalize:\n",
    "        cm = cm.astype('float') / cm.sum(axis=1)[:, np.newaxis]\n",
    "\n",
    "\n",
    "    thresh = cm.max() / 1.5 if normalize else cm.max() / 2\n",
    "    for i, j in itertools.product(range(cm.shape[0]), range(cm.shape[1])):\n",
    "        if normalize:\n",
    "            plt.text(j, i, \"{:0.4f}\".format(cm[i, j]),\n",
    "                     horizontalalignment=\"center\",\n",
    "                     color=\"white\" if cm[i, j] > thresh else \"black\")\n",
    "        else:\n",
    "            plt.text(j, i, \"{:,}\".format(cm[i, j]),\n",
    "                     horizontalalignment=\"center\",\n",
    "                     color=\"white\" if cm[i, j] > thresh else \"black\")\n",
    "\n",
    "\n",
    "    plt.tight_layout()\n",
    "    plt.ylabel('True label')\n",
    "    plt.xlabel('Predicted label\\naccuracy={:0.4f}; misclass={:0.4f}'.format(accuracy, misclass))\n",
    "    plt.show()\n",
    "    "
   ]
  },
  {
   "cell_type": "code",
   "execution_count": 40,
   "metadata": {},
   "outputs": [
    {
     "data": {
      "image/png": "[encoded data removed]",
      "text/plain": [
       "<Figure size 576x432 with 2 Axes>"
      ]
     },
     "metadata": {
      "needs_background": "light"
     },
     "output_type": "display_data"
    },
    {
     "name": "stdout",
     "output_type": "stream",
     "text": [
      "The recall equals to 0.983681112894596\n"
     ]
    }
   ],
   "source": [
    "plot_confusion_matrix(cm,labels, normalize=False)  ## Dessiner la matrice de confusion\n",
    "recall = cm[1, 1] / (cm[1,1] + cm[1,0])\n",
    "print('The recall equals to {}'.format(recall))"
   ]
  },
  {
   "cell_type": "markdown",
   "metadata": {},
   "source": [
    "# Predir les réponses Nan"
   ]
  },
  {
   "cell_type": "code",
   "execution_count": 119,
   "metadata": {},
   "outputs": [],
   "source": [
    "Y_pred= model.predict(X_nanResponse_pad)  ## Predir les réponses non fournit par les utilisateurs"
   ]
  },
  {
   "cell_type": "code",
   "execution_count": 120,
   "metadata": {},
   "outputs": [
    {
     "data": {
      "text/html": [
       "<div>\n",
       "<style scoped>\n",
       "    .dataframe tbody tr th:only-of-type {\n",
       "        vertical-align: middle;\n",
       "    }\n",
       "\n",
       "    .dataframe tbody tr th {\n",
       "        vertical-align: top;\n",
       "    }\n",
       "\n",
       "    .dataframe thead th {\n",
       "        text-align: right;\n",
       "    }\n",
       "</style>\n",
       "<table border=\"1\" class=\"dataframe\">\n",
       "  <thead>\n",
       "    <tr style=\"text-align: right;\">\n",
       "      <th></th>\n",
       "      <th>0</th>\n",
       "    </tr>\n",
       "  </thead>\n",
       "  <tbody>\n",
       "    <tr>\n",
       "      <th>0</th>\n",
       "      <td>0.0</td>\n",
       "    </tr>\n",
       "    <tr>\n",
       "      <th>1</th>\n",
       "      <td>0.0</td>\n",
       "    </tr>\n",
       "    <tr>\n",
       "      <th>2</th>\n",
       "      <td>1.0</td>\n",
       "    </tr>\n",
       "    <tr>\n",
       "      <th>3</th>\n",
       "      <td>1.0</td>\n",
       "    </tr>\n",
       "    <tr>\n",
       "      <th>4</th>\n",
       "      <td>1.0</td>\n",
       "    </tr>\n",
       "  </tbody>\n",
       "</table>\n",
       "</div>"
      ],
      "text/plain": [
       "     0\n",
       "0  0.0\n",
       "1  0.0\n",
       "2  1.0\n",
       "3  1.0\n",
       "4  1.0"
      ]
     },
     "execution_count": 120,
     "metadata": {},
     "output_type": "execute_result"
    }
   ],
   "source": [
    "## Arrondir les valeurs \n",
    "y=pd.DataFrame(np.round(Y_pred)).iloc[:]\n",
    "y.head()"
   ]
  },
  {
   "cell_type": "code",
   "execution_count": 121,
   "metadata": {},
   "outputs": [
    {
     "data": {
      "text/html": [
       "<div>\n",
       "<style scoped>\n",
       "    .dataframe tbody tr th:only-of-type {\n",
       "        vertical-align: middle;\n",
       "    }\n",
       "\n",
       "    .dataframe tbody tr th {\n",
       "        vertical-align: top;\n",
       "    }\n",
       "\n",
       "    .dataframe thead th {\n",
       "        text-align: right;\n",
       "    }\n",
       "</style>\n",
       "<table border=\"1\" class=\"dataframe\">\n",
       "  <thead>\n",
       "    <tr style=\"text-align: right;\">\n",
       "      <th></th>\n",
       "      <th>0</th>\n",
       "    </tr>\n",
       "  </thead>\n",
       "  <tbody>\n",
       "    <tr>\n",
       "      <th>0</th>\n",
       "      <td>Non</td>\n",
       "    </tr>\n",
       "    <tr>\n",
       "      <th>1</th>\n",
       "      <td>Non</td>\n",
       "    </tr>\n",
       "    <tr>\n",
       "      <th>2</th>\n",
       "      <td>Oui</td>\n",
       "    </tr>\n",
       "    <tr>\n",
       "      <th>3</th>\n",
       "      <td>Oui</td>\n",
       "    </tr>\n",
       "    <tr>\n",
       "      <th>4</th>\n",
       "      <td>Oui</td>\n",
       "    </tr>\n",
       "  </tbody>\n",
       "</table>\n",
       "</div>"
      ],
      "text/plain": [
       "     0\n",
       "0  Non\n",
       "1  Non\n",
       "2  Oui\n",
       "3  Oui\n",
       "4  Oui"
      ]
     },
     "execution_count": 121,
     "metadata": {},
     "output_type": "execute_result"
    }
   ],
   "source": [
    "##Remplacer les valeurs 0 par Non et 1 par Oui\n",
    "y=y.replace(0.0,'Non')\n",
    "y=y.replace(1.0,'Oui')\n",
    "y.head()"
   ]
  },
  {
   "cell_type": "code",
   "execution_count": 122,
   "metadata": {},
   "outputs": [],
   "source": [
    "nanResponse['Response']= y"
   ]
  },
  {
   "cell_type": "code",
   "execution_count": 127,
   "metadata": {},
   "outputs": [],
   "source": [
    "### Redefinir les entêtes\n",
    "nanResponse.columns=['title','reponse Nan','Si oui, que faudrait-il faire pour vous convaincre ou vous aider à utiliser ces solutions alternatives ?'\n",
    "                    ,'Si non, quelles sont les solutions de mobilité alternatives que vous souhaiteriez pouvoir utiliser ?'\n",
    "                     ,'Et qui doit selon vous se charger de vous proposer ce type de solutions alternatives ?'\n",
    "                    ,'Avez-vous pour vos déplacements quotidiens la possibilité de recourir  à des solutions de mobilité alternatives à la voiture individuelle comme les transports en commun,le covoiturage, l auto-partage, le transport à la demande, le vélo, etc. ?']"
   ]
  },
  {
   "cell_type": "code",
   "execution_count": 135,
   "metadata": {},
   "outputs": [
    {
     "data": {
      "text/html": [
       "<div>\n",
       "<style scoped>\n",
       "    .dataframe tbody tr th:only-of-type {\n",
       "        vertical-align: middle;\n",
       "    }\n",
       "\n",
       "    .dataframe tbody tr th {\n",
       "        vertical-align: top;\n",
       "    }\n",
       "\n",
       "    .dataframe thead th {\n",
       "        text-align: right;\n",
       "    }\n",
       "</style>\n",
       "<table border=\"1\" class=\"dataframe\">\n",
       "  <thead>\n",
       "    <tr style=\"text-align: right;\">\n",
       "      <th></th>\n",
       "      <th>title</th>\n",
       "      <th>reponse Nan</th>\n",
       "      <th>Si oui, que faudrait-il faire pour vous convaincre ou vous aider à utiliser ces solutions alternatives ?</th>\n",
       "      <th>Si non, quelles sont les solutions de mobilité alternatives que vous souhaiteriez pouvoir utiliser ?</th>\n",
       "      <th>Et qui doit selon vous se charger de vous proposer ce type de solutions alternatives ?</th>\n",
       "      <th>Avez-vous pour vos déplacements quotidiens la possibilité de recourir  à des solutions de mobilité alternatives à la voiture individuelle comme les transports en commun,le covoiturage, l auto-partage, le transport à la demande, le vélo, etc. ?</th>\n",
       "    </tr>\n",
       "  </thead>\n",
       "  <tbody>\n",
       "    <tr>\n",
       "      <th>85</th>\n",
       "      <td>Retour au raisonnable</td>\n",
       "      <td>NaN</td>\n",
       "      <td>Mon jardin est cultivé en permaculture.  pesti...</td>\n",
       "      <td>Avoir une solution de rechange pratique. ex tr...</td>\n",
       "      <td>Plus d'aides pour acquisition / location vélo,...</td>\n",
       "      <td>Non</td>\n",
       "    </tr>\n",
       "    <tr>\n",
       "      <th>339</th>\n",
       "      <td>Transition écologique   une génération pou y a...</td>\n",
       "      <td>NaN</td>\n",
       "      <td>J 'aimerai bien mais ma ville Marseille n' pas...</td>\n",
       "      <td>\\tTransport public inclure dans nos impôts lo...</td>\n",
       "      <td>que les grands corps d'état régions et départe...</td>\n",
       "      <td>Oui</td>\n",
       "    </tr>\n",
       "    <tr>\n",
       "      <th>693</th>\n",
       "      <td>arretez les doctrinnaires</td>\n",
       "      <td>NaN</td>\n",
       "      <td>je le fait deja</td>\n",
       "      <td>je le fait deja</td>\n",
       "      <td>devellopper les parkings de proximite, surtout...</td>\n",
       "      <td>Oui</td>\n",
       "    </tr>\n",
       "    <tr>\n",
       "      <th>1695</th>\n",
       "      <td>Ecologie</td>\n",
       "      <td>NaN</td>\n",
       "      <td>Tri sélectif, transport en commun, limiter le ...</td>\n",
       "      <td>Une meilleur approche du tri sélectif et un dé...</td>\n",
       "      <td>Le système de consigne ne pénalise personne et...</td>\n",
       "      <td>Oui</td>\n",
       "    </tr>\n",
       "    <tr>\n",
       "      <th>1802</th>\n",
       "      <td>Préparer les générations futures au changement...</td>\n",
       "      <td>NaN</td>\n",
       "      <td>J'ai supprimé certains aliments de mon panier ...</td>\n",
       "      <td>Des avantages fiscaux</td>\n",
       "      <td>Généraliser le télétravail lorsque cela est po...</td>\n",
       "      <td>Oui</td>\n",
       "    </tr>\n",
       "  </tbody>\n",
       "</table>\n",
       "</div>"
      ],
      "text/plain": [
       "                                                  title reponse Nan  \\\n",
       "85                                Retour au raisonnable         NaN   \n",
       "339   Transition écologique   une génération pou y a...         NaN   \n",
       "693                           arretez les doctrinnaires         NaN   \n",
       "1695                                           Ecologie         NaN   \n",
       "1802  Préparer les générations futures au changement...         NaN   \n",
       "\n",
       "     Si oui, que faudrait-il faire pour vous convaincre ou vous aider à utiliser ces solutions alternatives ?  \\\n",
       "85    Mon jardin est cultivé en permaculture.  pesti...                                                         \n",
       "339   J 'aimerai bien mais ma ville Marseille n' pas...                                                         \n",
       "693                                     je le fait deja                                                         \n",
       "1695  Tri sélectif, transport en commun, limiter le ...                                                         \n",
       "1802  J'ai supprimé certains aliments de mon panier ...                                                         \n",
       "\n",
       "     Si non, quelles sont les solutions de mobilité alternatives que vous souhaiteriez pouvoir utiliser ?  \\\n",
       "85    Avoir une solution de rechange pratique. ex tr...                                                     \n",
       "339   \\tTransport public inclure dans nos impôts lo...                                                     \n",
       "693                                     je le fait deja                                                     \n",
       "1695  Une meilleur approche du tri sélectif et un dé...                                                     \n",
       "1802                              Des avantages fiscaux                                                     \n",
       "\n",
       "     Et qui doit selon vous se charger de vous proposer ce type de solutions alternatives ?  \\\n",
       "85    Plus d'aides pour acquisition / location vélo,...                                       \n",
       "339   que les grands corps d'état régions et départe...                                       \n",
       "693   devellopper les parkings de proximite, surtout...                                       \n",
       "1695  Le système de consigne ne pénalise personne et...                                       \n",
       "1802  Généraliser le télétravail lorsque cela est po...                                       \n",
       "\n",
       "     Avez-vous pour vos déplacements quotidiens la possibilité de recourir  à des solutions de mobilité alternatives à la voiture individuelle comme les transports en commun,le covoiturage, l auto-partage, le transport à la demande, le vélo, etc. ?  \n",
       "85                                                  Non                                                                                                                                                                                                   \n",
       "339                                                 Oui                                                                                                                                                                                                   \n",
       "693                                                 Oui                                                                                                                                                                                                   \n",
       "1695                                                Oui                                                                                                                                                                                                   \n",
       "1802                                                Oui                                                                                                                                                                                                   "
      ]
     },
     "execution_count": 135,
     "metadata": {},
     "output_type": "execute_result"
    }
   ],
   "source": [
    "nanResponse.head()  ### La base de données finale"
   ]
  },
  {
   "cell_type": "code",
   "execution_count": null,
   "metadata": {},
   "outputs": [],
   "source": []
  }
 ],
 "metadata": {
  "kernelspec": {
   "display_name": "Python 3",
   "language": "python",
   "name": "python3"
  },
  "language_info": {
   "codemirror_mode": {
    "name": "ipython",
    "version": 3
   },
   "file_extension": ".py",
   "mimetype": "text/x-python",
   "name": "python",
   "nbconvert_exporter": "python",
   "pygments_lexer": "ipython3",
   "version": "3.7.1"
  }
 },
 "nbformat": 4,
 "nbformat_minor": 2
}
