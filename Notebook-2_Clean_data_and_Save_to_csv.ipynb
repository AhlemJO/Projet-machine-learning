{
 "cells": [
  {
   "cell_type": "markdown",
   "metadata": {},
   "source": [
    "\n",
    "<center> <h1> <font color='blue'> Notebook 2 : \"Clean_data_and_Save_to_csv\"</font></h1> <h2> Group 4 </h2> </center> "
   ]
  },
  {
   "cell_type": "markdown",
   "metadata": {},
   "source": [
    "## Plan of this notebook : "
   ]
  },
  {
   "cell_type": "markdown",
   "metadata": {},
   "source": [
    "1. [About this notebook](#1)  <br>\n",
    "<br>\n",
    "\n",
    "2. [Prepare data](#2) <br>\n",
    "<br>\n",
    "3. [Group data per zip code and clean non existant zip codes](#3) <br>\n",
    "<br>\n",
    "4. [Define useful processing functions](#4) <br>\n",
    "<br>\n",
    "5. [Save grouped dataframes](#5) <br>\n",
    "<br>\n",
    "6. [Save clean dataframes](#6) <br>\n",
    "<br>\n",
    "7. [Save lemmatized dataframes](#7) <br>\n",
    "\n",
    "\n"
   ]
  },
  {
   "cell_type": "markdown",
   "metadata": {},
   "source": [
    "<a class=\"anchor\" id=\"1\"></a> "
   ]
  },
  {
   "cell_type": "markdown",
   "metadata": {},
   "source": [
    "## 1. About this notebook"
   ]
  },
  {
   "cell_type": "markdown",
   "metadata": {},
   "source": [
    "In this notebook, we will try to prepare our data for further work. <br>\n",
    "<br>\n",
    "First, we will clean the data by removing punctuation and numbers. Then we will remove stopwords that are the most used in the French language.\n",
    "We will save the work in a CSV file **\"clean_environement.csv\".**\n",
    "\n",
    "<br>\n",
    "\n",
    "After that, We will add lemmatization and use Spacy for this since it is the most efficient tool now. We will keep only words that are NOUNS and proper nouns since environmental problems would be expressed as nouns by users. Spacy also allows this very easily.\n",
    "The new data will be saved in **\"lemmatized_environement.csv\"**\n",
    "\n",
    "<br>\n",
    "Later, we will group the data per zip and cleans the non existant zip-codes, we will clean the rows with zip codes that do not exist in France, then we will group the responses for each zip code. So that we will group the problems and answers of each region in the same row.\n",
    "We will save the data in **\"grouped_lemmetized.csv\"**\n"
   ]
  },
  {
   "cell_type": "markdown",
   "metadata": {
    "colab_type": "text",
    "id": "jY-FCV7CAVpZ"
   },
   "source": [
    "## Import libraries"
   ]
  },
  {
   "cell_type": "code",
   "execution_count": 1,
   "metadata": {
    "colab": {
     "base_uri": "https://localhost:8080/",
     "height": 338
    },
    "colab_type": "code",
    "id": "3eYRIqeIW-p_",
    "outputId": "60f65c3f-5475-4b57-b7c7-24ab347e233a"
   },
   "outputs": [
    {
     "name": "stdout",
     "output_type": "stream",
     "text": [
      "[nltk_data] Downloading package stopwords to\n",
      "[nltk_data]     /Users/siwarabbes/nltk_data...\n",
      "[nltk_data]   Package stopwords is already up-to-date!\n",
      "[nltk_data] Downloading package punkt to\n",
      "[nltk_data]     /Users/siwarabbes/nltk_data...\n",
      "[nltk_data]   Package punkt is already up-to-date!\n",
      "Requirement already satisfied: fr_core_news_sm==2.1.0 from https://github.com/explosion/spacy-models/releases/download/fr_core_news_sm-2.1.0/fr_core_news_sm-2.1.0.tar.gz#egg=fr_core_news_sm==2.1.0 in /Users/siwarabbes/anaconda3/lib/python3.7/site-packages (2.1.0)\n",
      "\u001b[38;5;2m✔ Download and installation successful\u001b[0m\n",
      "You can now load the model via spacy.load('fr_core_news_sm')\n",
      "\u001b[38;5;2m✔ Linking successful\u001b[0m\n",
      "/Users/siwarabbes/anaconda3/lib/python3.7/site-packages/fr_core_news_sm -->\n",
      "/Users/siwarabbes/anaconda3/lib/python3.7/site-packages/spacy/data/fr\n",
      "You can now load the model via spacy.load('fr')\n"
     ]
    }
   ],
   "source": [
    "import pandas as pd\n",
    "import numpy as np\n",
    "import nltk\n",
    "from pprint import pprint\n",
    "\n",
    "nltk.download('stopwords')\n",
    "nltk.download('punkt')\n",
    "from nltk.corpus import stopwords\n",
    "from nltk.tokenize import  word_tokenize\n",
    "\n",
    "# spacy for lemmatization\n",
    "import spacy\n",
    "!python -m spacy download fr\n",
    "\n",
    "\n",
    "import matplotlib.pyplot as plt\n",
    "%matplotlib inline\n",
    "\n",
    "from sklearn.decomposition import LatentDirichletAllocation\n",
    "from sklearn.feature_extraction.text import CountVectorizer\n",
    "\n",
    "# Enable logging for gensim - optional\n",
    "import logging\n",
    "logging.basicConfig(format='%(asctime)s : %(levelname)s : %(message)s', level=logging.ERROR)\n",
    "\n",
    "import warnings\n",
    "warnings.filterwarnings(\"ignore\",category=DeprecationWarning)\n",
    "\n",
    "\n",
    "import re\n",
    "import os\n",
    "pd.set_option('max_colwidth', 400)"
   ]
  },
  {
   "cell_type": "markdown",
   "metadata": {},
   "source": [
    "<a class=\"anchor\" id=\"2\"></a> "
   ]
  },
  {
   "cell_type": "markdown",
   "metadata": {
    "colab_type": "text",
    "id": "LSp7sxMPAPa3"
   },
   "source": [
    "## 2. Prepare data"
   ]
  },
  {
   "cell_type": "code",
   "execution_count": 6,
   "metadata": {
    "colab": {},
    "colab_type": "code",
    "id": "ko7-obcGW4VB"
   },
   "outputs": [
    {
     "data": {
      "text/html": [
       "<div>\n",
       "<style scoped>\n",
       "    .dataframe tbody tr th:only-of-type {\n",
       "        vertical-align: middle;\n",
       "    }\n",
       "\n",
       "    .dataframe tbody tr th {\n",
       "        vertical-align: top;\n",
       "    }\n",
       "\n",
       "    .dataframe thead th {\n",
       "        text-align: right;\n",
       "    }\n",
       "</style>\n",
       "<table border=\"1\" class=\"dataframe\">\n",
       "  <thead>\n",
       "    <tr style=\"text-align: right;\">\n",
       "      <th></th>\n",
       "      <th>id</th>\n",
       "      <th>reference</th>\n",
       "      <th>title</th>\n",
       "      <th>createdAt</th>\n",
       "      <th>publishedAt</th>\n",
       "      <th>updatedAt</th>\n",
       "      <th>trashed</th>\n",
       "      <th>trashedStatus</th>\n",
       "      <th>authorId</th>\n",
       "      <th>authorType</th>\n",
       "      <th>...</th>\n",
       "      <th>QUXVlc3Rpb246MTUw - Qu'est-ce qui pourrait vous inciter à changer vos comportements comme par exemple mieux entretenir et régler votre chauffage, modifier votre manière de conduire ou renoncer à prendre votre véhicule pour de très petites distances ?</th>\n",
       "      <th>QUXVlc3Rpb246MTUx - Quelles seraient pour vous les solutions les plus simples et les plus supportables sur un plan financier pour vous inciter à changer vos comportements ?</th>\n",
       "      <th>QUXVlc3Rpb246MTUy - Par rapport à votre mode de chauffage actuel, pensez-vous qu'il existe des solutions alternatives plus écologiques ?</th>\n",
       "      <th>QUXVlc3Rpb246MTUz - Si oui, que faudrait-il faire pour vous convaincre ou vous aider à changer de mode de chauffage ?</th>\n",
       "      <th>QUXVlc3Rpb246MTU0 - Avez-vous pour vos déplacements quotidiens la possibilité de recourir à des solutions de mobilité alternatives à la voiture individuelle comme les transports en commun, le covoiturage, l'auto-partage, le transport à la demande, le vélo, etc. ?</th>\n",
       "      <th>QUXVlc3Rpb246MTU1 - Si oui, que faudrait-il faire pour vous convaincre ou vous aider à utiliser ces solutions alternatives ?</th>\n",
       "      <th>QUXVlc3Rpb246MjA3 - Si non, quelles sont les solutions de mobilité alternatives que vous souhaiteriez pouvoir utiliser ?</th>\n",
       "      <th>QUXVlc3Rpb246MTU3 - Et qui doit selon vous se charger de vous proposer ce type de solutions alternatives ?</th>\n",
       "      <th>QUXVlc3Rpb246MTU4 - Que pourrait faire la France pour faire partager ses choix en matière d'environnement au niveau européen et international ?</th>\n",
       "      <th>QUXVlc3Rpb246MTU5 - Y a-t-il d'autres points sur la transition écologique sur lesquels vous souhaiteriez vous exprimer ?</th>\n",
       "    </tr>\n",
       "  </thead>\n",
       "  <tbody>\n",
       "    <tr>\n",
       "      <th>0</th>\n",
       "      <td>UHJvcG9zYWw6ZmZlN2MwNzktMWUyMC0xMWU5LTk0ZDItZmExNjNlZWIxMWUx</td>\n",
       "      <td>2-4</td>\n",
       "      <td>transition écologique</td>\n",
       "      <td>2019-01-22 09:37:49</td>\n",
       "      <td>2019-01-22 09:37:49</td>\n",
       "      <td>NaN</td>\n",
       "      <td>False</td>\n",
       "      <td>NaN</td>\n",
       "      <td>VXNlcjoxMTQwMTc0YS0xZTFmLTExZTktOTRkMi1mYTE2M2VlYjExZTE=</td>\n",
       "      <td>Citoyen / Citoyenne</td>\n",
       "      <td>...</td>\n",
       "      <td>NaN</td>\n",
       "      <td>NaN</td>\n",
       "      <td>NaN</td>\n",
       "      <td>NaN</td>\n",
       "      <td>NaN</td>\n",
       "      <td>NaN</td>\n",
       "      <td>NaN</td>\n",
       "      <td>NaN</td>\n",
       "      <td>Enseignement du tri sélectif à l'école</td>\n",
       "      <td>Multiplier les centrales géothermiques</td>\n",
       "    </tr>\n",
       "    <tr>\n",
       "      <th>1</th>\n",
       "      <td>UHJvcG9zYWw6M2RmZmUxZjMtMWUyMS0xMWU5LTk0ZDItZmExNjNlZWIxMWUx</td>\n",
       "      <td>2-5</td>\n",
       "      <td>La surpopulation</td>\n",
       "      <td>2019-01-22 09:39:33</td>\n",
       "      <td>2019-01-22 09:39:33</td>\n",
       "      <td>NaN</td>\n",
       "      <td>False</td>\n",
       "      <td>NaN</td>\n",
       "      <td>VXNlcjpjOWYxZWQ1NS0xYzEwLTExZTktOTRkMi1mYTE2M2VlYjExZTE=</td>\n",
       "      <td>Citoyen / Citoyenne</td>\n",
       "      <td>...</td>\n",
       "      <td>NaN</td>\n",
       "      <td>NaN</td>\n",
       "      <td>NaN</td>\n",
       "      <td>NaN</td>\n",
       "      <td>NaN</td>\n",
       "      <td>NaN</td>\n",
       "      <td>NaN</td>\n",
       "      <td>NaN</td>\n",
       "      <td>Mettre en oeuvre au niveau national ses engagements internationaux</td>\n",
       "      <td>Les problèmes auxquels se trouve confronté l’ensemble de la planète et que dénoncent, dans le plus parfait désordre, les gilets jaunes de France ne sont-ils pas dus, avant tout, à la surpopulation mondiale ? Cette population est passée d’1,5 milliards d’habitants en 1900 à 7 milliards en 2020 et montera bientôt à 10 milliards vers 2040.  Avec les progrès de la communication dans ce village mon...</td>\n",
       "    </tr>\n",
       "    <tr>\n",
       "      <th>2</th>\n",
       "      <td>UHJvcG9zYWw6NDg1YWUxYjItMWUyMS0xMWU5LTk0ZDItZmExNjNlZWIxMWUx</td>\n",
       "      <td>2-6</td>\n",
       "      <td>climat</td>\n",
       "      <td>2019-01-22 09:39:50</td>\n",
       "      <td>2019-01-22 09:39:50</td>\n",
       "      <td>NaN</td>\n",
       "      <td>False</td>\n",
       "      <td>NaN</td>\n",
       "      <td>VXNlcjozZjlhNzAwOS0xYTc2LTExZTktOTRkMi1mYTE2M2VlYjExZTE=</td>\n",
       "      <td>Citoyen / Citoyenne</td>\n",
       "      <td>...</td>\n",
       "      <td>développer  les transports en commun ,</td>\n",
       "      <td>NaN</td>\n",
       "      <td>Non</td>\n",
       "      <td>NaN</td>\n",
       "      <td>Oui</td>\n",
       "      <td>NaN</td>\n",
       "      <td>Les transports en commun|L'auto partage|Le transport à la demande</td>\n",
       "      <td>NaN</td>\n",
       "      <td>NaN</td>\n",
       "      <td>NaN</td>\n",
       "    </tr>\n",
       "    <tr>\n",
       "      <th>3</th>\n",
       "      <td>UHJvcG9zYWw6NTk2Nzk5MmItMWUyMS0xMWU5LTk0ZDItZmExNjNlZWIxMWUx</td>\n",
       "      <td>2-7</td>\n",
       "      <td>POLLUTION AIR EAU</td>\n",
       "      <td>2019-01-22 09:40:19</td>\n",
       "      <td>2019-01-22 09:40:19</td>\n",
       "      <td>NaN</td>\n",
       "      <td>False</td>\n",
       "      <td>NaN</td>\n",
       "      <td>VXNlcjozOWQwNzJjNC0xZDEwLTExZTktOTRkMi1mYTE2M2VlYjExZTE=</td>\n",
       "      <td>Citoyen / Citoyenne</td>\n",
       "      <td>...</td>\n",
       "      <td>NaN</td>\n",
       "      <td>Plus de transports publics dans les petites communes pour rejoindre les grandes agglomérations proches.</td>\n",
       "      <td>Non</td>\n",
       "      <td>NaN</td>\n",
       "      <td>Non</td>\n",
       "      <td>Le co-voiturage ne correspond pas toujours aux demandes. Les lieux de desserte sont loin des centre-villes.</td>\n",
       "      <td>Les transports en commun</td>\n",
       "      <td>L'Etat</td>\n",
       "      <td>Elle n'a aucun pouvoir. Impossible de contraindre l'afrique, l'asie, etc à adopter des mesures anti-pollution.</td>\n",
       "      <td>NaN</td>\n",
       "    </tr>\n",
       "    <tr>\n",
       "      <th>4</th>\n",
       "      <td>UHJvcG9zYWw6ODU5NWMyOTYtMWUyMS0xMWU5LTk0ZDItZmExNjNlZWIxMWUx</td>\n",
       "      <td>2-8</td>\n",
       "      <td>Economie vs Ecologie</td>\n",
       "      <td>2019-01-22 09:41:33</td>\n",
       "      <td>2019-01-22 09:41:33</td>\n",
       "      <td>NaN</td>\n",
       "      <td>False</td>\n",
       "      <td>NaN</td>\n",
       "      <td>VXNlcjo3M2YxN2NlZS0xZDRiLTExZTktOTRkMi1mYTE2M2VlYjExZTE=</td>\n",
       "      <td>Citoyen / Citoyenne</td>\n",
       "      <td>...</td>\n",
       "      <td>Aménagement de piste cyclable, développement du covoiturage, des \"vrais\"bus propres, une aide pour un mode de chauffage écologique. Et surtout le télétravail !</td>\n",
       "      <td>Détaxer le mode de chauffage écologique, une aide sur le long terme par forcement sur l'installation</td>\n",
       "      <td>Oui</td>\n",
       "      <td>une aide significative pour de l'éolien ou du solaire. Mais pas une aide au entreprises qui installent ;-)</td>\n",
       "      <td>Non</td>\n",
       "      <td>Une piste cyclable pour éviter de risquer ma vie en allant travailler</td>\n",
       "      <td>Les transports en commun|Le covoiturage|Le vélo</td>\n",
       "      <td>La commune, le département, la région</td>\n",
       "      <td>Demander à Nicolas Hulot</td>\n",
       "      <td>Une vrai politique écologique et non économique</td>\n",
       "    </tr>\n",
       "  </tbody>\n",
       "</table>\n",
       "<p>5 rows × 27 columns</p>\n",
       "</div>"
      ],
      "text/plain": [
       "                                                             id reference  \\\n",
       "0  UHJvcG9zYWw6ZmZlN2MwNzktMWUyMC0xMWU5LTk0ZDItZmExNjNlZWIxMWUx       2-4   \n",
       "1  UHJvcG9zYWw6M2RmZmUxZjMtMWUyMS0xMWU5LTk0ZDItZmExNjNlZWIxMWUx       2-5   \n",
       "2  UHJvcG9zYWw6NDg1YWUxYjItMWUyMS0xMWU5LTk0ZDItZmExNjNlZWIxMWUx       2-6   \n",
       "3  UHJvcG9zYWw6NTk2Nzk5MmItMWUyMS0xMWU5LTk0ZDItZmExNjNlZWIxMWUx       2-7   \n",
       "4  UHJvcG9zYWw6ODU5NWMyOTYtMWUyMS0xMWU5LTk0ZDItZmExNjNlZWIxMWUx       2-8   \n",
       "\n",
       "                   title            createdAt          publishedAt updatedAt  \\\n",
       "0  transition écologique  2019-01-22 09:37:49  2019-01-22 09:37:49       NaN   \n",
       "1       La surpopulation  2019-01-22 09:39:33  2019-01-22 09:39:33       NaN   \n",
       "2                 climat  2019-01-22 09:39:50  2019-01-22 09:39:50       NaN   \n",
       "3      POLLUTION AIR EAU  2019-01-22 09:40:19  2019-01-22 09:40:19       NaN   \n",
       "4   Economie vs Ecologie  2019-01-22 09:41:33  2019-01-22 09:41:33       NaN   \n",
       "\n",
       "   trashed trashedStatus  \\\n",
       "0    False           NaN   \n",
       "1    False           NaN   \n",
       "2    False           NaN   \n",
       "3    False           NaN   \n",
       "4    False           NaN   \n",
       "\n",
       "                                                   authorId  \\\n",
       "0  VXNlcjoxMTQwMTc0YS0xZTFmLTExZTktOTRkMi1mYTE2M2VlYjExZTE=   \n",
       "1  VXNlcjpjOWYxZWQ1NS0xYzEwLTExZTktOTRkMi1mYTE2M2VlYjExZTE=   \n",
       "2  VXNlcjozZjlhNzAwOS0xYTc2LTExZTktOTRkMi1mYTE2M2VlYjExZTE=   \n",
       "3  VXNlcjozOWQwNzJjNC0xZDEwLTExZTktOTRkMi1mYTE2M2VlYjExZTE=   \n",
       "4  VXNlcjo3M2YxN2NlZS0xZDRiLTExZTktOTRkMi1mYTE2M2VlYjExZTE=   \n",
       "\n",
       "            authorType  \\\n",
       "0  Citoyen / Citoyenne   \n",
       "1  Citoyen / Citoyenne   \n",
       "2  Citoyen / Citoyenne   \n",
       "3  Citoyen / Citoyenne   \n",
       "4  Citoyen / Citoyenne   \n",
       "\n",
       "                                                                                                                                                                                                        ...                                                                                                                                                                                                         \\\n",
       "0                                                                                                                                                                                                       ...                                                                                                                                                                                                          \n",
       "1                                                                                                                                                                                                       ...                                                                                                                                                                                                          \n",
       "2                                                                                                                                                                                                       ...                                                                                                                                                                                                          \n",
       "3                                                                                                                                                                                                       ...                                                                                                                                                                                                          \n",
       "4                                                                                                                                                                                                       ...                                                                                                                                                                                                          \n",
       "\n",
       "   QUXVlc3Rpb246MTUw - Qu'est-ce qui pourrait vous inciter à changer vos comportements comme par exemple mieux entretenir et régler votre chauffage, modifier votre manière de conduire ou renoncer à prendre votre véhicule pour de très petites distances ?  \\\n",
       "0                                                                                                                                                                                                                                                         NaN   \n",
       "1                                                                                                                                                                                                                                                         NaN   \n",
       "2                                                                                                                                                                                                                      développer  les transports en commun ,   \n",
       "3                                                                                                                                                                                                                                                         NaN   \n",
       "4                                                                                             Aménagement de piste cyclable, développement du covoiturage, des \"vrais\"bus propres, une aide pour un mode de chauffage écologique. Et surtout le télétravail !   \n",
       "\n",
       "  QUXVlc3Rpb246MTUx - Quelles seraient pour vous les solutions les plus simples et les plus supportables sur un plan financier pour vous inciter à changer vos comportements ?  \\\n",
       "0                                                                                                                                                                          NaN   \n",
       "1                                                                                                                                                                          NaN   \n",
       "2                                                                                                                                                                          NaN   \n",
       "3                                                                      Plus de transports publics dans les petites communes pour rejoindre les grandes agglomérations proches.   \n",
       "4                                                                         Détaxer le mode de chauffage écologique, une aide sur le long terme par forcement sur l'installation   \n",
       "\n",
       "  QUXVlc3Rpb246MTUy - Par rapport à votre mode de chauffage actuel, pensez-vous qu'il existe des solutions alternatives plus écologiques ?  \\\n",
       "0                                                                                                                                      NaN   \n",
       "1                                                                                                                                      NaN   \n",
       "2                                                                                                                                      Non   \n",
       "3                                                                                                                                      Non   \n",
       "4                                                                                                                                      Oui   \n",
       "\n",
       "  QUXVlc3Rpb246MTUz - Si oui, que faudrait-il faire pour vous convaincre ou vous aider à changer de mode de chauffage ?  \\\n",
       "0                                                                                                                   NaN   \n",
       "1                                                                                                                   NaN   \n",
       "2                                                                                                                   NaN   \n",
       "3                                                                                                                   NaN   \n",
       "4            une aide significative pour de l'éolien ou du solaire. Mais pas une aide au entreprises qui installent ;-)   \n",
       "\n",
       "  QUXVlc3Rpb246MTU0 - Avez-vous pour vos déplacements quotidiens la possibilité de recourir à des solutions de mobilité alternatives à la voiture individuelle comme les transports en commun, le covoiturage, l'auto-partage, le transport à la demande, le vélo, etc. ?  \\\n",
       "0                                                                                                                                                                                                                                                                     NaN   \n",
       "1                                                                                                                                                                                                                                                                     NaN   \n",
       "2                                                                                                                                                                                                                                                                     Oui   \n",
       "3                                                                                                                                                                                                                                                                     Non   \n",
       "4                                                                                                                                                                                                                                                                     Non   \n",
       "\n",
       "  QUXVlc3Rpb246MTU1 - Si oui, que faudrait-il faire pour vous convaincre ou vous aider à utiliser ces solutions alternatives ?  \\\n",
       "0                                                                                                                          NaN   \n",
       "1                                                                                                                          NaN   \n",
       "2                                                                                                                          NaN   \n",
       "3                  Le co-voiturage ne correspond pas toujours aux demandes. Les lieux de desserte sont loin des centre-villes.   \n",
       "4                                                        Une piste cyclable pour éviter de risquer ma vie en allant travailler   \n",
       "\n",
       "  QUXVlc3Rpb246MjA3 - Si non, quelles sont les solutions de mobilité alternatives que vous souhaiteriez pouvoir utiliser ?  \\\n",
       "0                                                                                                                      NaN   \n",
       "1                                                                                                                      NaN   \n",
       "2                                                        Les transports en commun|L'auto partage|Le transport à la demande   \n",
       "3                                                                                                 Les transports en commun   \n",
       "4                                                                          Les transports en commun|Le covoiturage|Le vélo   \n",
       "\n",
       "  QUXVlc3Rpb246MTU3 - Et qui doit selon vous se charger de vous proposer ce type de solutions alternatives ?  \\\n",
       "0                                                                                                        NaN   \n",
       "1                                                                                                        NaN   \n",
       "2                                                                                                        NaN   \n",
       "3                                                                                                     L'Etat   \n",
       "4                                                                      La commune, le département, la région   \n",
       "\n",
       "  QUXVlc3Rpb246MTU4 - Que pourrait faire la France pour faire partager ses choix en matière d'environnement au niveau européen et international ?  \\\n",
       "0                                                                                                          Enseignement du tri sélectif à l'école   \n",
       "1                                                                              Mettre en oeuvre au niveau national ses engagements internationaux   \n",
       "2                                                                                                                                             NaN   \n",
       "3                                  Elle n'a aucun pouvoir. Impossible de contraindre l'afrique, l'asie, etc à adopter des mesures anti-pollution.   \n",
       "4                                                                                                                        Demander à Nicolas Hulot   \n",
       "\n",
       "                                                                                                                                                                                                                                                                                          QUXVlc3Rpb246MTU5 - Y a-t-il d'autres points sur la transition écologique sur lesquels vous souhaiteriez vous exprimer ?  \n",
       "0                                                                                                                                                                                                                                                                                                                                                                           Multiplier les centrales géothermiques  \n",
       "1  Les problèmes auxquels se trouve confronté l’ensemble de la planète et que dénoncent, dans le plus parfait désordre, les gilets jaunes de France ne sont-ils pas dus, avant tout, à la surpopulation mondiale ? Cette population est passée d’1,5 milliards d’habitants en 1900 à 7 milliards en 2020 et montera bientôt à 10 milliards vers 2040.  Avec les progrès de la communication dans ce village mon...  \n",
       "2                                                                                                                                                                                                                                                                                                                                                                                                              NaN  \n",
       "3                                                                                                                                                                                                                                                                                                                                                                                                              NaN  \n",
       "4                                                                                                                                                                                                                                                                                                                                                                  Une vrai politique écologique et non économique  \n",
       "\n",
       "[5 rows x 27 columns]"
      ]
     },
     "execution_count": 6,
     "metadata": {},
     "output_type": "execute_result"
    }
   ],
   "source": [
    "envr_df = pd.read_csv('LA_TRANSITION_ECOLOGIQUE.csv', low_memory=False)\n",
    "envr_df.head()"
   ]
  },
  {
   "cell_type": "code",
   "execution_count": 7,
   "metadata": {
    "colab": {},
    "colab_type": "code",
    "id": "QcRyLRiG9EvD"
   },
   "outputs": [],
   "source": [
    "# Change column names\n",
    "envr_df.columns= ['id', 'reference', 'title', 'createdAt', 'publishedAt', 'updatedAt',\n",
    "       'trashed', 'trashedStatus', 'authorId', 'authorType', 'authorZipCode', 'problemes', 'reponse_probleme', 'q3','q4','q5','q6','q7','q8','q9','q10','q11','q12','q13','q14','q15','q16']\n",
    "\n",
    "# Remove the nan values\n",
    "envr_df.fillna('',inplace=True)"
   ]
  },
  {
   "cell_type": "code",
   "execution_count": 8,
   "metadata": {
    "colab": {},
    "colab_type": "code",
    "id": "P8jnQv6GZQCq"
   },
   "outputs": [],
   "source": [
    "# We convert our data to type string\n",
    "envr_df[['problems', 'reponse_probleme', 'q3','q4','q5','q6','q7','q8','q9','q10','q11','q12','q13','q14','q15','q16']] = envr_df[['problemes', 'reponse_probleme', 'q3','q4','q5','q6','q7','q8','q9','q10','q11','q12','q13','q14','q15','q16']].astype(str)"
   ]
  },
  {
   "cell_type": "code",
   "execution_count": 9,
   "metadata": {
    "colab": {},
    "colab_type": "code",
    "id": "vs5S-zFWYibN"
   },
   "outputs": [],
   "source": [
    "# We will focus only on zipcode,title, the response of Q3 which concerns the ecological problems and the response on Q4 which concerns the solution proposed to these problems\n",
    "reduced_dataset_df = envr_df[['authorZipCode', 'title', 'problems', 'reponse_probleme']]"
   ]
  },
  {
   "cell_type": "markdown",
   "metadata": {},
   "source": [
    "<a class=\"anchor\" id=\"3\"></a> "
   ]
  },
  {
   "cell_type": "markdown",
   "metadata": {
    "colab_type": "text",
    "id": "DYtqgA5uAdw-"
   },
   "source": [
    "## 3. Group data per zip code and clean non existant zip codes"
   ]
  },
  {
   "cell_type": "markdown",
   "metadata": {},
   "source": [
    "We got the data containing all zip codes in France from INSEE [website]('https://www.data.gouv.fr/en/datasets/correspondance-code-insee-code-postal/)"
   ]
  },
  {
   "cell_type": "code",
   "execution_count": 12,
   "metadata": {
    "colab": {},
    "colab_type": "code",
    "id": "VJwjWZ5vYr0J"
   },
   "outputs": [
    {
     "data": {
      "text/html": [
       "<div>\n",
       "<style scoped>\n",
       "    .dataframe tbody tr th:only-of-type {\n",
       "        vertical-align: middle;\n",
       "    }\n",
       "\n",
       "    .dataframe tbody tr th {\n",
       "        vertical-align: top;\n",
       "    }\n",
       "\n",
       "    .dataframe thead th {\n",
       "        text-align: right;\n",
       "    }\n",
       "</style>\n",
       "<table border=\"1\" class=\"dataframe\">\n",
       "  <thead>\n",
       "    <tr style=\"text-align: right;\">\n",
       "      <th></th>\n",
       "      <th>authorZipCode</th>\n",
       "      <th>title</th>\n",
       "      <th>problems</th>\n",
       "      <th>reponse_probleme</th>\n",
       "    </tr>\n",
       "  </thead>\n",
       "  <tbody>\n",
       "    <tr>\n",
       "      <th>0</th>\n",
       "      <td>1000</td>\n",
       "      <td>Une répartition plus juste des efforts concernant la transition écologique Valoriser financièrement les actions écologiques Développement du ferroutage, plantation d'arbres subventionner les agriculteurs pour une transition ecologique suppression des pesticides ,, Sortir les investissements écolo du budget Passer d'une transition écologique imposée à une transition écologique voulue. \"Transiti...</td>\n",
       "      <td>Les dérèglements climatiques (crue, sécheresse) La biodiversité et la disparition de certaines espèces La pollution de l'air Les dérèglements climatiques (crue, sécheresse) Les dérèglements climatiques (crue, sécheresse) Les dérèglements climatiques (crue, sécheresse) La biodiversité et la disparition de certaines espèces il n'y a pas qu'un seul problème; tous sont importants mais la pollution...</td>\n",
       "      <td>L'effort doit être soutenu tant par les particuliers que par les pollueurs les plus importants (industries) et les administrations. La taxe carbone devrait toucher tous ces acteurs en fonction des émissions polluantes de manière exponentielle, et son intégralité être affectée à l'accélération de la transition écologique : installation de parcs éoliens en zone venteuse et en mer ; centrales sol...</td>\n",
       "    </tr>\n",
       "    <tr>\n",
       "      <th>1</th>\n",
       "      <td>1090</td>\n",
       "      <td>Rendre plus importante la vie économique des petits villages Avec quels moyens changer sa chaudière au fioul et sa voiture diesel?? Décentralisation et relocalisation des productions véhicule électrique écologie cause mondiale Pour une transition écologique durableet solidaire Urgence climatique avis de retraités</td>\n",
       "      <td>Les dérèglements climatiques (crue, sécheresse) La pollution des océans La pollution de l'air Les dérèglements climatiques (crue, sécheresse) Les dérèglements climatiques (crue, sécheresse) toutes les réponses ci-dessus   La production d'energie fossile pour le carburant et le plastique Les dérèglements climatiques (crue, sécheresse)</td>\n",
       "      <td>Travailler sur la source du problème: réduire l'utilisation énergétique. Interdire tout les plastiques non biodégradables, taxer assez lourdement les paquebots de croisière La centralisation dans les grandes villes encourage la désertification des services, l'augmentation de la nécessité de se déplacer en voiture et l'augmentation des bouchons dans les grandes villes.  PRENDRE DES SANCTIONS CO...</td>\n",
       "    </tr>\n",
       "    <tr>\n",
       "      <th>2</th>\n",
       "      <td>1100</td>\n",
       "      <td>Pollution Stop aux energies fosiles Il faut se sevrer du pétrole Développement durable NON A L'ECOLOGIE PUNITIVE ET A L'ENFUMAGE DES ESPRITS Transport des marchandises conscience écologique INDIVIDUELLE , POLITIQUE et EUROPEENNE Vers une nouvelle façon de vivre Magnum Tout le monde est concerné, à tous les niveaux. Mais la contribution doit être proprtionnelle à la pollution engendrée. Préserv...</td>\n",
       "      <td>La pollution de l'air Les dérèglements climatiques (crue, sécheresse) notre consommation de petrole. L'agriculture chimique La biodiversité et la disparition de certaines espèces La biodiversité et la disparition de certaines espèces Les dérèglements climatiques (crue, sécheresse) La biodiversité et la disparition de certaines espèces Les dérèglements climatiques (crue, sécheresse) Les dérègle...</td>\n",
       "      <td>Taxer tous les poids lourds sans exception , réaménagés tous les fleuves capable de supporter le transport fluvial . Interdire le centre ville a tous les véhicules a moteur. Remplacer tous les véhicules de livraisons par des charrettes tirer par des chevaux ! privilégier l’hydrogène Les experts s'accordent à dire que nous n'aurons plus de pétrole dans 20 ans et nous ne sommes pas prêts à nous ...</td>\n",
       "    </tr>\n",
       "    <tr>\n",
       "      <th>3</th>\n",
       "      <td>1110</td>\n",
       "      <td>Pour une bonne santé Proposition pour l'international sans doute un peu utopiste Justice écologique et ruralité Changer nos comportements revoir nos priorités Civisme et bon sens Pollution de l'air Réchauffement climatique - pollution de l'air PENALISER CEUX QUI SOUILLENT LA NATURE santé publique et environnement</td>\n",
       "      <td>Les dérèglements climatiques (crue, sécheresse) Tous ces problèmes réunis, il serait difficile d'en faire émerger un qui soit plus urgent ou plus important que les autres. La pollution de l'air Les dérèglements climatiques (crue, sécheresse) Les dérèglements climatiques (crue, sécheresse) La biodiversité et la disparition de certaines espèces La pollution de l'air Les dérèglements climatiques ...</td>\n",
       "      <td>convaincre la Chine et les USA de s'impliquer dans le sauvetage de la planète C'est un idée un peu naïve mais je la pose tout de même. Serait-il envisageable de proposer que le FMI (ou autre institution mais c'est ce qui me semble le plus logique), puisse faire des prêts aux Etats et que ces prêts, s'ils sont utilisés pour le bien commun, en l’occurrence les efforts pour ralentir la tendance d...</td>\n",
       "    </tr>\n",
       "    <tr>\n",
       "      <th>4</th>\n",
       "      <td>1120</td>\n",
       "      <td>Solution pour sécheresse Il faut arrêter de nous mentir sur la pollution des diesel. Limiter les transports en changeant nos habitudes de travail Prise de responsabilité Développement de la production de l’hydrogène changement combustible Consommation Réduction des dechets et amelioration des lignes de transports Gratuité des transports en commun en hypercentre hydrogene Économie locale Réduir...</td>\n",
       "      <td>Les dérèglements climatiques (crue, sécheresse) La pollution de l'air Les dérèglements climatiques (crue, sécheresse) La biodiversité et la disparition de certaines espèces Les dérèglements climatiques (crue, sécheresse) La pollution de l'air Les dérèglements climatiques (crue, sécheresse) Les dérèglements climatiques (crue, sécheresse) Pollution de l'air ET biodiversité La pollution de l'air ...</td>\n",
       "      <td>Retenir l'eau des rivières en construisant des barrages effaçables sur certaines cours d'eau de plaine afin de maintenir le niveau maximum de ceux-ci en période d'étiage. Les réserves ainsi constituées serviront à l'irrigation en période sèche. il faut taxer les grands pollueurs comme les supers pétroliers, les avions, et arrêter de mettre autant de véhicules au services des grands fonctionnai...</td>\n",
       "    </tr>\n",
       "  </tbody>\n",
       "</table>\n",
       "</div>"
      ],
      "text/plain": [
       "   authorZipCode  \\\n",
       "0           1000   \n",
       "1           1090   \n",
       "2           1100   \n",
       "3           1110   \n",
       "4           1120   \n",
       "\n",
       "                                                                                                                                                                                                                                                                                                                                                                                                             title  \\\n",
       "0  Une répartition plus juste des efforts concernant la transition écologique Valoriser financièrement les actions écologiques Développement du ferroutage, plantation d'arbres subventionner les agriculteurs pour une transition ecologique suppression des pesticides ,, Sortir les investissements écolo du budget Passer d'une transition écologique imposée à une transition écologique voulue. \"Transiti...   \n",
       "1                                                                                       Rendre plus importante la vie économique des petits villages Avec quels moyens changer sa chaudière au fioul et sa voiture diesel?? Décentralisation et relocalisation des productions véhicule électrique écologie cause mondiale Pour une transition écologique durableet solidaire Urgence climatique avis de retraités   \n",
       "2  Pollution Stop aux energies fosiles Il faut se sevrer du pétrole Développement durable NON A L'ECOLOGIE PUNITIVE ET A L'ENFUMAGE DES ESPRITS Transport des marchandises conscience écologique INDIVIDUELLE , POLITIQUE et EUROPEENNE Vers une nouvelle façon de vivre Magnum Tout le monde est concerné, à tous les niveaux. Mais la contribution doit être proprtionnelle à la pollution engendrée. Préserv...   \n",
       "3                                                                                       Pour une bonne santé Proposition pour l'international sans doute un peu utopiste Justice écologique et ruralité Changer nos comportements revoir nos priorités Civisme et bon sens Pollution de l'air Réchauffement climatique - pollution de l'air PENALISER CEUX QUI SOUILLENT LA NATURE santé publique et environnement   \n",
       "4  Solution pour sécheresse Il faut arrêter de nous mentir sur la pollution des diesel. Limiter les transports en changeant nos habitudes de travail Prise de responsabilité Développement de la production de l’hydrogène changement combustible Consommation Réduction des dechets et amelioration des lignes de transports Gratuité des transports en commun en hypercentre hydrogene Économie locale Réduir...   \n",
       "\n",
       "                                                                                                                                                                                                                                                                                                                                                                                                          problems  \\\n",
       "0  Les dérèglements climatiques (crue, sécheresse) La biodiversité et la disparition de certaines espèces La pollution de l'air Les dérèglements climatiques (crue, sécheresse) Les dérèglements climatiques (crue, sécheresse) Les dérèglements climatiques (crue, sécheresse) La biodiversité et la disparition de certaines espèces il n'y a pas qu'un seul problème; tous sont importants mais la pollution...   \n",
       "1                                                                  Les dérèglements climatiques (crue, sécheresse) La pollution des océans La pollution de l'air Les dérèglements climatiques (crue, sécheresse) Les dérèglements climatiques (crue, sécheresse) toutes les réponses ci-dessus   La production d'energie fossile pour le carburant et le plastique Les dérèglements climatiques (crue, sécheresse)   \n",
       "2  La pollution de l'air Les dérèglements climatiques (crue, sécheresse) notre consommation de petrole. L'agriculture chimique La biodiversité et la disparition de certaines espèces La biodiversité et la disparition de certaines espèces Les dérèglements climatiques (crue, sécheresse) La biodiversité et la disparition de certaines espèces Les dérèglements climatiques (crue, sécheresse) Les dérègle...   \n",
       "3  Les dérèglements climatiques (crue, sécheresse) Tous ces problèmes réunis, il serait difficile d'en faire émerger un qui soit plus urgent ou plus important que les autres. La pollution de l'air Les dérèglements climatiques (crue, sécheresse) Les dérèglements climatiques (crue, sécheresse) La biodiversité et la disparition de certaines espèces La pollution de l'air Les dérèglements climatiques ...   \n",
       "4  Les dérèglements climatiques (crue, sécheresse) La pollution de l'air Les dérèglements climatiques (crue, sécheresse) La biodiversité et la disparition de certaines espèces Les dérèglements climatiques (crue, sécheresse) La pollution de l'air Les dérèglements climatiques (crue, sécheresse) Les dérèglements climatiques (crue, sécheresse) Pollution de l'air ET biodiversité La pollution de l'air ...   \n",
       "\n",
       "                                                                                                                                                                                                                                                                                                                                                                                                  reponse_probleme  \n",
       "0  L'effort doit être soutenu tant par les particuliers que par les pollueurs les plus importants (industries) et les administrations. La taxe carbone devrait toucher tous ces acteurs en fonction des émissions polluantes de manière exponentielle, et son intégralité être affectée à l'accélération de la transition écologique : installation de parcs éoliens en zone venteuse et en mer ; centrales sol...  \n",
       "1  Travailler sur la source du problème: réduire l'utilisation énergétique. Interdire tout les plastiques non biodégradables, taxer assez lourdement les paquebots de croisière La centralisation dans les grandes villes encourage la désertification des services, l'augmentation de la nécessité de se déplacer en voiture et l'augmentation des bouchons dans les grandes villes.  PRENDRE DES SANCTIONS CO...  \n",
       "2  Taxer tous les poids lourds sans exception , réaménagés tous les fleuves capable de supporter le transport fluvial . Interdire le centre ville a tous les véhicules a moteur. Remplacer tous les véhicules de livraisons par des charrettes tirer par des chevaux ! privilégier l’hydrogène Les experts s'accordent à dire que nous n'aurons plus de pétrole dans 20 ans et nous ne sommes pas prêts à nous ...  \n",
       "3  convaincre la Chine et les USA de s'impliquer dans le sauvetage de la planète C'est un idée un peu naïve mais je la pose tout de même. Serait-il envisageable de proposer que le FMI (ou autre institution mais c'est ce qui me semble le plus logique), puisse faire des prêts aux Etats et que ces prêts, s'ils sont utilisés pour le bien commun, en l’occurrence les efforts pour ralentir la tendance d...  \n",
       "4  Retenir l'eau des rivières en construisant des barrages effaçables sur certaines cours d'eau de plaine afin de maintenir le niveau maximum de ceux-ci en période d'étiage. Les réserves ainsi constituées serviront à l'irrigation en période sèche. il faut taxer les grands pollueurs comme les supers pétroliers, les avions, et arrêter de mettre autant de véhicules au services des grands fonctionnai...  "
      ]
     },
     "execution_count": 12,
     "metadata": {},
     "output_type": "execute_result"
    }
   ],
   "source": [
    "cities = pd.read_csv('zip_codes.csv', low_memory=False, delimiter=';')\n",
    "valid_zip_codes = list(cities['Code_postal'])\n",
    "# Delete rows containing non valid zip codes\n",
    "reduced_dataset_df = reduced_dataset_df.loc[reduced_dataset_df['authorZipCode'].isin(valid_zip_codes)]\n",
    "# Group data with the same zip code and concatenate responses\n",
    "reduced_dataset_df = reduced_dataset_df.groupby('authorZipCode',as_index=False).agg(lambda x :' '.join(x))\n",
    "reduced_dataset_df.head()"
   ]
  },
  {
   "cell_type": "markdown",
   "metadata": {},
   "source": [
    "<a class=\"anchor\" id=\"4\"></a> "
   ]
  },
  {
   "cell_type": "markdown",
   "metadata": {
    "colab_type": "text",
    "id": "bPasdx3h9bRs"
   },
   "source": [
    "## 4. Define useful processing functions\n"
   ]
  },
  {
   "cell_type": "code",
   "execution_count": 27,
   "metadata": {
    "colab": {},
    "colab_type": "code",
    "id": "ifATyEPf9bRw"
   },
   "outputs": [],
   "source": [
    "def clean(X):\n",
    "    # X, column data\n",
    "    pd_list = list(X)\n",
    "    pd_list = [it.lower() for it in pd_list] # to lowercase\n",
    "    # We noticed that people use o instead of ô frequently so we replaced it to get more robust text\n",
    "    pd_list = [re.sub(r'ô','o',it) for it in pd_list] \n",
    "    # Same thing with é ê è contributers often misspell these characters so we replaced it with simple e\n",
    "    pd_list = [re.sub(r'[éêè]','e',it) for it in pd_list] \n",
    "    # Delete non alphabetic characters\n",
    "    pd_list = [re.sub(r'([^a-zéèûôàêô])',' ',it) for it in pd_list]\n",
    "    return pd_list"
   ]
  },
  {
   "cell_type": "code",
   "execution_count": 14,
   "metadata": {
    "colab": {},
    "colab_type": "code",
    "id": "zbvxNxcz9bR5"
   },
   "outputs": [],
   "source": [
    "def tokenization(X_list):\n",
    "    tokenized_list = [word_tokenize(it) for it in X_list]\n",
    "    return tokenized_list"
   ]
  },
  {
   "cell_type": "code",
   "execution_count": 15,
   "metadata": {
    "colab": {},
    "colab_type": "code",
    "id": "VdH5KGZS9bSI"
   },
   "outputs": [],
   "source": [
    "\n",
    "#We added this list to give more sens to our results.\n",
    "other_stopwords = ['les','a','afin','alors',  'plus', 'moins', 'faut', 'tout', 'tous', 'prends', 'tre', 'si','non','doit','avoir','comme','trop','leurs','faire','ils','peut','bien','aussi','cela','gens', 'sans', 'car', 'très', 'fait', '\\'', 'qu\\'', 'd\\'', 'l\\'', '\"', 'être', 'mai', 'faudrait']\n",
    "\n",
    "stopWords = stopwords.words('french')\n",
    "stopWords.extend(other_stopwords)\n",
    "stopWords = set(stopWords)\n",
    "\n",
    "def remove_stopwords(X_list):\n",
    "    filtered_list =[]\n",
    "    for it in X_list:\n",
    "        \n",
    "        temp = []\n",
    "        for word in it:\n",
    "            if(word not in stopWords):\n",
    "                temp.append(word)\n",
    "        filtered_list.append(temp)\n",
    "        temp=[]\n",
    "     \n",
    "    return filtered_list"
   ]
  },
  {
   "cell_type": "code",
   "execution_count": 16,
   "metadata": {
    "colab": {},
    "colab_type": "code",
    "id": "4d92AVQu-U7B"
   },
   "outputs": [],
   "source": [
    "### Function that cleans and removes stopwords\n",
    "def clean_remove_stopwords(column_data):\n",
    "  \n",
    "    non_stopwords_data = remove_stopwords(tokenization(clean(column_data)))\n",
    "    non_tokenized = []\n",
    "    for l in non_stopwords_data:\n",
    "    non_tokenized.append(' '.join(l))\n",
    "  \n",
    "  return non_tokenized\n",
    "\n"
   ]
  },
  {
   "cell_type": "code",
   "execution_count": 17,
   "metadata": {
    "colab": {},
    "colab_type": "code",
    "id": "jvOjRvfb5lPB"
   },
   "outputs": [],
   "source": [
    "# Function that lemmatized data. We used Spacy \n",
    "def lemmetize(column_data):\n",
    "    nlp = spacy.load('fr', disable=['parser', 'ner'])\n",
    "    rep_lemmas = []\n",
    "    for i, reponse in enumerate(column_data):\n",
    "        if(i % 25000 == 0) :\n",
    "            print('{} processed colmuns now '.format(i))\n",
    "        if type(reponse) == str:\n",
    "            doc = nlp(reponse)\n",
    "            #We only keep lemmas which are nouns maybe we have to add VERB.\n",
    "            # lemmas = [token.lemma_ if token.pos_ in ['NOUN', 'PROPN', 'ADJ'] else ''  for token in doc]\n",
    "            # Keep only nouns and proper nouns in our text\n",
    "            lemmas = [token.lemma_ for token in doc if token.pos_ in ['NOUN', 'PROPN']]\n",
    "        else:\n",
    "            lemmas = ''\n",
    "        rep_lemmas.append(' '.join(lemmas))\n",
    "    return rep_lemmas\n"
   ]
  },
  {
   "cell_type": "code",
   "execution_count": 18,
   "metadata": {
    "colab": {},
    "colab_type": "code",
    "id": "XSV6v9WY6kqy"
   },
   "outputs": [
    {
     "name": "stdout",
     "output_type": "stream",
     "text": [
      "0 processed colmuns now \n",
      "['transition', 'éxpérience écologie trasformation']\n"
     ]
    }
   ],
   "source": [
    "## test lemmatization\n",
    "text = ['je suis transitions écologiques', 'une éxpérience écologie naturelle trasformation']\n",
    "print(lemmetize(text))"
   ]
  },
  {
   "cell_type": "markdown",
   "metadata": {},
   "source": [
    "<a class=\"anchor\" id=\"5\"></a> "
   ]
  },
  {
   "cell_type": "markdown",
   "metadata": {
    "colab_type": "text",
    "id": "YQO7uvJxwMRA"
   },
   "source": [
    "## 5. Save grouped dataframes"
   ]
  },
  {
   "cell_type": "code",
   "execution_count": 19,
   "metadata": {
    "colab": {},
    "colab_type": "code",
    "id": "0iZtB6ak1vE9"
   },
   "outputs": [
    {
     "data": {
      "text/html": [
       "<div>\n",
       "<style scoped>\n",
       "    .dataframe tbody tr th:only-of-type {\n",
       "        vertical-align: middle;\n",
       "    }\n",
       "\n",
       "    .dataframe tbody tr th {\n",
       "        vertical-align: top;\n",
       "    }\n",
       "\n",
       "    .dataframe thead th {\n",
       "        text-align: right;\n",
       "    }\n",
       "</style>\n",
       "<table border=\"1\" class=\"dataframe\">\n",
       "  <thead>\n",
       "    <tr style=\"text-align: right;\">\n",
       "      <th></th>\n",
       "      <th>authorZipCode</th>\n",
       "      <th>title</th>\n",
       "      <th>problems</th>\n",
       "      <th>reponse_probleme</th>\n",
       "    </tr>\n",
       "  </thead>\n",
       "  <tbody>\n",
       "    <tr>\n",
       "      <th>0</th>\n",
       "      <td>1000</td>\n",
       "      <td>répartition juste efforts concernant transition écologique valoriser financièrement actions écologiques développement ferroutage plantation arbres subventionner agriculteurs transition ecologique suppression pesticides sortir investissements écolo budget passer transition écologique imposée transition écologique voulue transition déjà tard arrêter essayer argent sous prétexte protection enviro...</td>\n",
       "      <td>dérèglements climatiques crue sécheresse biodiversité disparition certaines espèces pollution air dérèglements climatiques crue sécheresse dérèglements climatiques crue sécheresse dérèglements climatiques crue sécheresse biodiversité disparition certaines espèces seul problème importants pollution air dérèglement climatique découle importants dérèglements climatiques crue sécheresse pollution ...</td>\n",
       "      <td>effort soutenu tant particuliers pollueurs importants industries administrations taxe carbone devrait toucher acteurs fonction émissions polluantes manière exponentielle intégralité affectée accélération transition écologique installation parcs éoliens zone venteuse mer centrales solaires zones rurales sud utilisation énergie géothermique réduire considérablement empreinte carbone taxer produi...</td>\n",
       "    </tr>\n",
       "    <tr>\n",
       "      <th>1</th>\n",
       "      <td>1090</td>\n",
       "      <td>rendre importante vie économique petits villages quels moyens changer chaudière fioul voiture diesel décentralisation relocalisation productions véhicule électrique écologie cause mondiale transition écologique durableet solidaire urgence climatique avis retraités</td>\n",
       "      <td>dérèglements climatiques crue sécheresse pollution océans pollution air dérèglements climatiques crue sécheresse dérèglements climatiques crue sécheresse toutes réponses ci dessus production energie fossile carburant plastique dérèglements climatiques crue sécheresse</td>\n",
       "      <td>travailler source problème réduire utilisation énergétique interdire plastiques biodégradables taxer assez lourdement paquebots croisière centralisation grandes villes encourage désertification services augmentation nécessité déplacer voiture augmentation bouchons grandes villes prendre sanctions commerciales envers pays pollueurs diminuer consommation stopper extraction énergies fossiles donn...</td>\n",
       "    </tr>\n",
       "    <tr>\n",
       "      <th>2</th>\n",
       "      <td>1100</td>\n",
       "      <td>pollution stop energies fosiles sevrer pétrole développement durable ecologie punitive enfumage esprits transport marchandises conscience écologique individuelle politique europeenne vers nouvelle fa vivre magnum monde concerné niveaux contribution proprtionnelle pollution engendrée préservons maison urgence protection planète etre toute ere priorité prendre recul analyser fa pragamatique glob...</td>\n",
       "      <td>pollution air dérèglements climatiques crue sécheresse consommation petrole agriculture chimique biodiversité disparition certaines espèces biodiversité disparition certaines espèces dérèglements climatiques crue sécheresse biodiversité disparition certaines espèces dérèglements climatiques crue sécheresse dérèglements climatiques crue sécheresse biodiversité disparition certaines espèces quat...</td>\n",
       "      <td>taxer poids lourds exception réaménagés fleuves capable supporter transport fluvial interdire centre ville véhicules moteur remplacer véhicules livraisons charrettes tirer chevaux privilégier hydrogène experts accordent dire pétrole ans prêts passer complètement pétrole contraire tellement dépendants pétrole lorsqu économie mondiale effondrera monde sombrera chaos inimaginable choix dès présen...</td>\n",
       "    </tr>\n",
       "    <tr>\n",
       "      <th>3</th>\n",
       "      <td>1110</td>\n",
       "      <td>bonne santé proposition international doute peu utopiste justice écologique ruralité changer comportements revoir priorités civisme bon sens pollution air réchauffement climatique pollution air penaliser ceux souillent nature santé publique environnement</td>\n",
       "      <td>dérèglements climatiques crue sécheresse problèmes réunis difficile émerger urgent important autres pollution air dérèglements climatiques crue sécheresse dérèglements climatiques crue sécheresse biodiversité disparition certaines espèces pollution air dérèglements climatiques crue sécheresse saletes jetes certains citoyens anture cannette biere megots sac mac do pesticides</td>\n",
       "      <td>convaincre chine usa impliquer sauvetage planète idée peu na ve pose envisageable proposer fmi autre institution semble logique puisse prêts etats prêts utilisés commun occurrence efforts ralentir tendance changement climatique besoin remboursés argent existant vraiment tant chose concrète trouve peu idiot laisse planète dégrader pourrait autrement institutions raisonnées onu fmi pouvait créer...</td>\n",
       "    </tr>\n",
       "    <tr>\n",
       "      <th>4</th>\n",
       "      <td>1120</td>\n",
       "      <td>solution sécheresse arrêter mentir pollution diesel limiter transports changeant habitudes travail prise responsabilité développement production hydrogène changement combustible consommation réduction dechets amelioration lignes transports gratuité transports commun hypercentre hydrogene économie locale réduire pollution entreprises transports surtout transports aériens transition écologique b...</td>\n",
       "      <td>dérèglements climatiques crue sécheresse pollution air dérèglements climatiques crue sécheresse biodiversité disparition certaines espèces dérèglements climatiques crue sécheresse pollution air dérèglements climatiques crue sécheresse dérèglements climatiques crue sécheresse pollution air biodiversité pollution air points dessus pollution survolent jour nuit dessus têtes payent aucune taxe car...</td>\n",
       "      <td>retenir eau rivières construisant barrages effa ables certaines cours eau plaine maintenir niveau maximum ceux ci période étiage réserves ainsi constituées serviront irrigation période sèche taxer grands pollueurs supers pétroliers arrêter mettre autant véhicules services grands fonctionnaires ex marseille besoin soldats protection président lorsqu débat combien camions transports nécessaires ...</td>\n",
       "    </tr>\n",
       "  </tbody>\n",
       "</table>\n",
       "</div>"
      ],
      "text/plain": [
       "   authorZipCode  \\\n",
       "0           1000   \n",
       "1           1090   \n",
       "2           1100   \n",
       "3           1110   \n",
       "4           1120   \n",
       "\n",
       "                                                                                                                                                                                                                                                                                                                                                                                                             title  \\\n",
       "0  répartition juste efforts concernant transition écologique valoriser financièrement actions écologiques développement ferroutage plantation arbres subventionner agriculteurs transition ecologique suppression pesticides sortir investissements écolo budget passer transition écologique imposée transition écologique voulue transition déjà tard arrêter essayer argent sous prétexte protection enviro...   \n",
       "1                                                                                                                                         rendre importante vie économique petits villages quels moyens changer chaudière fioul voiture diesel décentralisation relocalisation productions véhicule électrique écologie cause mondiale transition écologique durableet solidaire urgence climatique avis retraités   \n",
       "2  pollution stop energies fosiles sevrer pétrole développement durable ecologie punitive enfumage esprits transport marchandises conscience écologique individuelle politique europeenne vers nouvelle fa vivre magnum monde concerné niveaux contribution proprtionnelle pollution engendrée préservons maison urgence protection planète etre toute ere priorité prendre recul analyser fa pragamatique glob...   \n",
       "3                                                                                                                                                   bonne santé proposition international doute peu utopiste justice écologique ruralité changer comportements revoir priorités civisme bon sens pollution air réchauffement climatique pollution air penaliser ceux souillent nature santé publique environnement   \n",
       "4  solution sécheresse arrêter mentir pollution diesel limiter transports changeant habitudes travail prise responsabilité développement production hydrogène changement combustible consommation réduction dechets amelioration lignes transports gratuité transports commun hypercentre hydrogene économie locale réduire pollution entreprises transports surtout transports aériens transition écologique b...   \n",
       "\n",
       "                                                                                                                                                                                                                                                                                                                                                                                                          problems  \\\n",
       "0  dérèglements climatiques crue sécheresse biodiversité disparition certaines espèces pollution air dérèglements climatiques crue sécheresse dérèglements climatiques crue sécheresse dérèglements climatiques crue sécheresse biodiversité disparition certaines espèces seul problème importants pollution air dérèglement climatique découle importants dérèglements climatiques crue sécheresse pollution ...   \n",
       "1                                                                                                                                      dérèglements climatiques crue sécheresse pollution océans pollution air dérèglements climatiques crue sécheresse dérèglements climatiques crue sécheresse toutes réponses ci dessus production energie fossile carburant plastique dérèglements climatiques crue sécheresse   \n",
       "2  pollution air dérèglements climatiques crue sécheresse consommation petrole agriculture chimique biodiversité disparition certaines espèces biodiversité disparition certaines espèces dérèglements climatiques crue sécheresse biodiversité disparition certaines espèces dérèglements climatiques crue sécheresse dérèglements climatiques crue sécheresse biodiversité disparition certaines espèces quat...   \n",
       "3                         dérèglements climatiques crue sécheresse problèmes réunis difficile émerger urgent important autres pollution air dérèglements climatiques crue sécheresse dérèglements climatiques crue sécheresse biodiversité disparition certaines espèces pollution air dérèglements climatiques crue sécheresse saletes jetes certains citoyens anture cannette biere megots sac mac do pesticides   \n",
       "4  dérèglements climatiques crue sécheresse pollution air dérèglements climatiques crue sécheresse biodiversité disparition certaines espèces dérèglements climatiques crue sécheresse pollution air dérèglements climatiques crue sécheresse dérèglements climatiques crue sécheresse pollution air biodiversité pollution air points dessus pollution survolent jour nuit dessus têtes payent aucune taxe car...   \n",
       "\n",
       "                                                                                                                                                                                                                                                                                                                                                                                                  reponse_probleme  \n",
       "0  effort soutenu tant particuliers pollueurs importants industries administrations taxe carbone devrait toucher acteurs fonction émissions polluantes manière exponentielle intégralité affectée accélération transition écologique installation parcs éoliens zone venteuse mer centrales solaires zones rurales sud utilisation énergie géothermique réduire considérablement empreinte carbone taxer produi...  \n",
       "1  travailler source problème réduire utilisation énergétique interdire plastiques biodégradables taxer assez lourdement paquebots croisière centralisation grandes villes encourage désertification services augmentation nécessité déplacer voiture augmentation bouchons grandes villes prendre sanctions commerciales envers pays pollueurs diminuer consommation stopper extraction énergies fossiles donn...  \n",
       "2  taxer poids lourds exception réaménagés fleuves capable supporter transport fluvial interdire centre ville véhicules moteur remplacer véhicules livraisons charrettes tirer chevaux privilégier hydrogène experts accordent dire pétrole ans prêts passer complètement pétrole contraire tellement dépendants pétrole lorsqu économie mondiale effondrera monde sombrera chaos inimaginable choix dès présen...  \n",
       "3  convaincre chine usa impliquer sauvetage planète idée peu na ve pose envisageable proposer fmi autre institution semble logique puisse prêts etats prêts utilisés commun occurrence efforts ralentir tendance changement climatique besoin remboursés argent existant vraiment tant chose concrète trouve peu idiot laisse planète dégrader pourrait autrement institutions raisonnées onu fmi pouvait créer...  \n",
       "4  retenir eau rivières construisant barrages effa ables certaines cours eau plaine maintenir niveau maximum ceux ci période étiage réserves ainsi constituées serviront irrigation période sèche taxer grands pollueurs supers pétroliers arrêter mettre autant véhicules services grands fonctionnaires ex marseille besoin soldats protection président lorsqu débat combien camions transports nécessaires ...  "
      ]
     },
     "execution_count": 19,
     "metadata": {},
     "output_type": "execute_result"
    }
   ],
   "source": [
    "grouped_df = pd.DataFrame()\n",
    "\n",
    "grouped_df['authorZipCode'] = reduced_dataset_df['authorZipCode']\n",
    "clean_column = clean_remove_stopwords(reduced_dataset_df['title'])\n",
    "grouped_df['title'] = clean_column\n",
    "clean_column = clean_remove_stopwords(reduced_dataset_df['problems'])\n",
    "grouped_df['problems'] = clean_column\n",
    "clean_column = clean_remove_stopwords(reduced_dataset_df['reponse_probleme'])\n",
    "grouped_df['reponse_probleme'] = clean_column\n",
    "\n",
    "grouped_df.head()"
   ]
  },
  {
   "cell_type": "code",
   "execution_count": 20,
   "metadata": {
    "colab": {},
    "colab_type": "code",
    "id": "CZDY8fwewVoC"
   },
   "outputs": [],
   "source": [
    "grouped_df.to_csv('grouped_filtered_not_cleaned_environement.csv')"
   ]
  },
  {
   "cell_type": "markdown",
   "metadata": {},
   "source": [
    "<a class=\"anchor\" id=\"6\"></a> "
   ]
  },
  {
   "cell_type": "markdown",
   "metadata": {},
   "source": [
    "## 6. Save clean dataframes"
   ]
  },
  {
   "cell_type": "code",
   "execution_count": 21,
   "metadata": {
    "colab": {},
    "colab_type": "code",
    "id": "iyDEJ4IzwVrn"
   },
   "outputs": [
    {
     "data": {
      "text/html": [
       "<div>\n",
       "<style scoped>\n",
       "    .dataframe tbody tr th:only-of-type {\n",
       "        vertical-align: middle;\n",
       "    }\n",
       "\n",
       "    .dataframe tbody tr th {\n",
       "        vertical-align: top;\n",
       "    }\n",
       "\n",
       "    .dataframe thead th {\n",
       "        text-align: right;\n",
       "    }\n",
       "</style>\n",
       "<table border=\"1\" class=\"dataframe\">\n",
       "  <thead>\n",
       "    <tr style=\"text-align: right;\">\n",
       "      <th></th>\n",
       "      <th>authorZipCode</th>\n",
       "      <th>title</th>\n",
       "      <th>problems</th>\n",
       "      <th>reponse_probleme</th>\n",
       "    </tr>\n",
       "  </thead>\n",
       "  <tbody>\n",
       "    <tr>\n",
       "      <th>0</th>\n",
       "      <td>97231</td>\n",
       "      <td>transition écologique</td>\n",
       "      <td></td>\n",
       "      <td></td>\n",
       "    </tr>\n",
       "    <tr>\n",
       "      <th>1</th>\n",
       "      <td>57000</td>\n",
       "      <td>surpopulation</td>\n",
       "      <td>problèmes auxquels trouve confronté ensemble planète dénoncent parfait désordre gilets jaunes france dus avant surpopulation mondiale cette population passée milliards habitants milliards montera bientot milliards vers progrès communication village mondial chaque individu fin fond asie fin fond afrique passant quartiers campagnes pays aspire vivre peu bl mer mal lotis concitoyens logement nour...</td>\n",
       "      <td>problèmes auxquels trouve confronté ensemble planète dénoncent parfait désordre gilets jaunes france dus avant surpopulation mondiale cette population passée milliards habitants milliards montera bientot milliards vers progrès communication village mondial planète chaque individu fin fond asie fin fond afrique passant quartiers campagnes pays aspire vivre peu bl mer mal lotis concitoyens logem...</td>\n",
       "    </tr>\n",
       "    <tr>\n",
       "      <th>2</th>\n",
       "      <td>34140</td>\n",
       "      <td>climat</td>\n",
       "      <td>dérèglements climatiques crue sécheresse</td>\n",
       "      <td>éviter inondations obliger riverains communes nettoyer secteur</td>\n",
       "    </tr>\n",
       "    <tr>\n",
       "      <th>3</th>\n",
       "      <td>17400</td>\n",
       "      <td>pollution air eau</td>\n",
       "      <td>pollution air</td>\n",
       "      <td>taxer gros pollueurs entreprises bateaux marchands routiers etc</td>\n",
       "    </tr>\n",
       "    <tr>\n",
       "      <th>4</th>\n",
       "      <td>35430</td>\n",
       "      <td>economie vs ecologie</td>\n",
       "      <td>biodiversité disparition certaines espèces</td>\n",
       "      <td>changer mode vie impulser nouvelle économie agricole</td>\n",
       "    </tr>\n",
       "  </tbody>\n",
       "</table>\n",
       "</div>"
      ],
      "text/plain": [
       "   authorZipCode                  title  \\\n",
       "0          97231  transition écologique   \n",
       "1          57000          surpopulation   \n",
       "2          34140                 climat   \n",
       "3          17400      pollution air eau   \n",
       "4          35430   economie vs ecologie   \n",
       "\n",
       "                                                                                                                                                                                                                                                                                                                                                                                                          problems  \\\n",
       "0                                                                                                                                                                                                                                                                                                                                                                                                                    \n",
       "1  problèmes auxquels trouve confronté ensemble planète dénoncent parfait désordre gilets jaunes france dus avant surpopulation mondiale cette population passée milliards habitants milliards montera bientot milliards vers progrès communication village mondial chaque individu fin fond asie fin fond afrique passant quartiers campagnes pays aspire vivre peu bl mer mal lotis concitoyens logement nour...   \n",
       "2                                                                                                                                                                                                                                                                                                                                                                         dérèglements climatiques crue sécheresse   \n",
       "3                                                                                                                                                                                                                                                                                                                                                                                                    pollution air   \n",
       "4                                                                                                                                                                                                                                                                                                                                                                       biodiversité disparition certaines espèces   \n",
       "\n",
       "                                                                                                                                                                                                                                                                                                                                                                                                  reponse_probleme  \n",
       "0                                                                                                                                                                                                                                                                                                                                                                                                                   \n",
       "1  problèmes auxquels trouve confronté ensemble planète dénoncent parfait désordre gilets jaunes france dus avant surpopulation mondiale cette population passée milliards habitants milliards montera bientot milliards vers progrès communication village mondial planète chaque individu fin fond asie fin fond afrique passant quartiers campagnes pays aspire vivre peu bl mer mal lotis concitoyens logem...  \n",
       "2                                                                                                                                                                                                                                                                                                                                                   éviter inondations obliger riverains communes nettoyer secteur  \n",
       "3                                                                                                                                                                                                                                                                                                                                                  taxer gros pollueurs entreprises bateaux marchands routiers etc  \n",
       "4                                                                                                                                                                                                                                                                                                                                                             changer mode vie impulser nouvelle économie agricole  "
      ]
     },
     "execution_count": 21,
     "metadata": {},
     "output_type": "execute_result"
    }
   ],
   "source": [
    "clean_df = pd.DataFrame()\n",
    "clean_df['authorZipCode'] = envr_df['authorZipCode']\n",
    "clean_column = clean_remove_stopwords(envr_df['title'])\n",
    "clean_df['title'] = clean_column\n",
    "clean_column = clean_remove_stopwords(envr_df['problems'])\n",
    "clean_df['problems'] = clean_column\n",
    "clean_column = clean_remove_stopwords(envr_df['reponse_probleme'])\n",
    "clean_df['reponse_probleme'] = clean_column\n",
    "\n",
    "clean_df.head()"
   ]
  },
  {
   "cell_type": "code",
   "execution_count": 22,
   "metadata": {
    "colab": {},
    "colab_type": "code",
    "id": "KIdO8mu20FZy"
   },
   "outputs": [],
   "source": [
    "clean_df.to_csv('clean_environement.csv')"
   ]
  },
  {
   "cell_type": "markdown",
   "metadata": {},
   "source": [
    "<a class=\"anchor\" id=\"7\"></a> "
   ]
  },
  {
   "cell_type": "markdown",
   "metadata": {},
   "source": [
    "## 7. Save lemmatized dataframes"
   ]
  },
  {
   "cell_type": "code",
   "execution_count": 23,
   "metadata": {
    "colab": {},
    "colab_type": "code",
    "id": "dBrG-plyJrA4"
   },
   "outputs": [
    {
     "name": "stdout",
     "output_type": "stream",
     "text": [
      "0 processed colmuns now \n",
      "25000 processed colmuns now \n",
      "50000 processed colmuns now \n",
      "75000 processed colmuns now \n",
      "0 processed colmuns now \n",
      "25000 processed colmuns now \n",
      "50000 processed colmuns now \n",
      "75000 processed colmuns now \n",
      "0 processed colmuns now \n",
      "25000 processed colmuns now \n",
      "50000 processed colmuns now \n",
      "75000 processed colmuns now \n"
     ]
    },
    {
     "data": {
      "text/html": [
       "<div>\n",
       "<style scoped>\n",
       "    .dataframe tbody tr th:only-of-type {\n",
       "        vertical-align: middle;\n",
       "    }\n",
       "\n",
       "    .dataframe tbody tr th {\n",
       "        vertical-align: top;\n",
       "    }\n",
       "\n",
       "    .dataframe thead th {\n",
       "        text-align: right;\n",
       "    }\n",
       "</style>\n",
       "<table border=\"1\" class=\"dataframe\">\n",
       "  <thead>\n",
       "    <tr style=\"text-align: right;\">\n",
       "      <th></th>\n",
       "      <th>authorZipCode</th>\n",
       "      <th>title</th>\n",
       "      <th>problems</th>\n",
       "      <th>reponse_probleme</th>\n",
       "    </tr>\n",
       "  </thead>\n",
       "  <tbody>\n",
       "    <tr>\n",
       "      <th>0</th>\n",
       "      <td>97231</td>\n",
       "      <td>transition</td>\n",
       "      <td></td>\n",
       "      <td></td>\n",
       "    </tr>\n",
       "    <tr>\n",
       "      <th>1</th>\n",
       "      <td>57000</td>\n",
       "      <td>surpopulation</td>\n",
       "      <td>problème ensemble gilet france devoir surpopulation population milliard milliard bientot milliard progrès communication village individu fin fond fin fond campagne pays nourriture bien consommation mère problème cas solution problème croissance partage richesse partage partage eau protection déforestation règlement stabilisation concurrence aise france débat</td>\n",
       "      <td>problème ensemble gilet france devoir surpopulation population milliard milliard bientot milliard progrès communication village individu fin fond fin fond campagne pays nourriture bien consommation mère problème cas solution problème croissance partage richesse partage partage eau protection déforestation règlement stabilisation concurrence aise france débat</td>\n",
       "    </tr>\n",
       "    <tr>\n",
       "      <th>2</th>\n",
       "      <td>34140</td>\n",
       "      <td>climat</td>\n",
       "      <td>dérèglement crue</td>\n",
       "      <td>inondation riverain secteur</td>\n",
       "    </tr>\n",
       "    <tr>\n",
       "      <th>3</th>\n",
       "      <td>17400</td>\n",
       "      <td>pollution air eau</td>\n",
       "      <td>pollution air</td>\n",
       "      <td>pollueur entreprise</td>\n",
       "    </tr>\n",
       "    <tr>\n",
       "      <th>4</th>\n",
       "      <td>35430</td>\n",
       "      <td>economie ecologie</td>\n",
       "      <td>biodiversité disparition espèce</td>\n",
       "      <td>mode vie économie</td>\n",
       "    </tr>\n",
       "  </tbody>\n",
       "</table>\n",
       "</div>"
      ],
      "text/plain": [
       "   authorZipCode              title  \\\n",
       "0          97231         transition   \n",
       "1          57000      surpopulation   \n",
       "2          34140             climat   \n",
       "3          17400  pollution air eau   \n",
       "4          35430  economie ecologie   \n",
       "\n",
       "                                                                                                                                                                                                                                                                                                                                                                   problems  \\\n",
       "0                                                                                                                                                                                                                                                                                                                                                                             \n",
       "1  problème ensemble gilet france devoir surpopulation population milliard milliard bientot milliard progrès communication village individu fin fond fin fond campagne pays nourriture bien consommation mère problème cas solution problème croissance partage richesse partage partage eau protection déforestation règlement stabilisation concurrence aise france débat   \n",
       "2                                                                                                                                                                                                                                                                                                                                                          dérèglement crue   \n",
       "3                                                                                                                                                                                                                                                                                                                                                             pollution air   \n",
       "4                                                                                                                                                                                                                                                                                                                                           biodiversité disparition espèce   \n",
       "\n",
       "                                                                                                                                                                                                                                                                                                                                                           reponse_probleme  \n",
       "0                                                                                                                                                                                                                                                                                                                                                                            \n",
       "1  problème ensemble gilet france devoir surpopulation population milliard milliard bientot milliard progrès communication village individu fin fond fin fond campagne pays nourriture bien consommation mère problème cas solution problème croissance partage richesse partage partage eau protection déforestation règlement stabilisation concurrence aise france débat  \n",
       "2                                                                                                                                                                                                                                                                                                                                               inondation riverain secteur  \n",
       "3                                                                                                                                                                                                                                                                                                                                                       pollueur entreprise  \n",
       "4                                                                                                                                                                                                                                                                                                                                                         mode vie économie  "
      ]
     },
     "execution_count": 23,
     "metadata": {},
     "output_type": "execute_result"
    }
   ],
   "source": [
    "lemmetized_df = pd.DataFrame()\n",
    "lemmetized_df['authorZipCode'] = clean_df['authorZipCode']\n",
    "lemmetized_df['title'] = lemmetize(clean_df['title'])\n",
    "lemmetized_df['problems'] = lemmetize(clean_df['problems'])\n",
    "lemmetized_df['reponse_probleme'] = lemmetize(clean_df['reponse_probleme'])\n",
    "\n",
    "\n",
    "lemmetized_df.head()"
   ]
  },
  {
   "cell_type": "code",
   "execution_count": 31,
   "metadata": {
    "colab": {},
    "colab_type": "code",
    "id": "gZ9NRzUsCjmg"
   },
   "outputs": [],
   "source": [
    "lemmetized_df.to_csv('lemmatized_environement.csv')"
   ]
  },
  {
   "cell_type": "code",
   "execution_count": 25,
   "metadata": {
    "colab": {},
    "colab_type": "code",
    "id": "O7DMe5IdCvJF",
    "scrolled": true
   },
   "outputs": [
    {
     "name": "stdout",
     "output_type": "stream",
     "text": [
      "0 processed colmuns now \n",
      "0 processed colmuns now \n",
      "0 processed colmuns now \n"
     ]
    },
    {
     "data": {
      "text/html": [
       "<div>\n",
       "<style scoped>\n",
       "    .dataframe tbody tr th:only-of-type {\n",
       "        vertical-align: middle;\n",
       "    }\n",
       "\n",
       "    .dataframe tbody tr th {\n",
       "        vertical-align: top;\n",
       "    }\n",
       "\n",
       "    .dataframe thead th {\n",
       "        text-align: right;\n",
       "    }\n",
       "</style>\n",
       "<table border=\"1\" class=\"dataframe\">\n",
       "  <thead>\n",
       "    <tr style=\"text-align: right;\">\n",
       "      <th></th>\n",
       "      <th>authorZipCode</th>\n",
       "      <th>title</th>\n",
       "      <th>problems</th>\n",
       "      <th>reponse_probleme</th>\n",
       "    </tr>\n",
       "  </thead>\n",
       "  <tbody>\n",
       "    <tr>\n",
       "      <th>0</th>\n",
       "      <td>1000</td>\n",
       "      <td>répartition transition action ferroutage plantation agriculteur transition suppression pesticide investissement budget transition transition transition argent prétexte protection environnement procédure déchet agriculteur industrie aise mutation véhicule culpabilisation ecologie police sauvon problème calendrier éducation transition circuit système consigne transition economie écologie punitiv...</td>\n",
       "      <td>dérèglement crue biodiversité disparition espèce pollution air dérèglement crue dérèglement crue dérèglement crue biodiversité disparition espèce problème pollution découle dérèglement crue pollution air emballage dérèglement crue dérèglement crue dérèglement crue precedente dérèglement crue dérèglement crue biodiversité disparition espèce biodiversité disparition espèce biodiversité dispariti...</td>\n",
       "      <td>effort particulier industrie carbone acteur fonction émission manière intégralité transition installation éolien mer utilisation énergie empreinte carbone produit empreinte produit tva produit produit baisse tva sanction donnée empreinte carbone commerce carton bouteille air ciel environnement élevage viande eau toilette replanton haie entretenon interdison faison bassin retention eau transiti...</td>\n",
       "    </tr>\n",
       "    <tr>\n",
       "      <th>1</th>\n",
       "      <td>1090</td>\n",
       "      <td>vie village moyen chaudière fioul voiture décentralisation relocalisation production véhicule écologie cause transition urgence avis</td>\n",
       "      <td>dérèglement crue pollution pollution air dérèglement crue dérèglement crue réponse production energie dérèglement crue</td>\n",
       "      <td>source problème utilisation centralisation ville désertification augmentation nécessité voiture augmentation ville sanction pays consommation extraction énergie place écologie école place développement niveau utilisation solution énergie fin surconsommation fin bouteille industrie</td>\n",
       "    </tr>\n",
       "    <tr>\n",
       "      <th>2</th>\n",
       "      <td>1100</td>\n",
       "      <td>pollution pétrole développement ecologie transport conscience vivre monde contribution pollution préservon maison urgence protection ere priorité pragamatique émotion recyclage agriculture liaison route transport marchandise pauvre</td>\n",
       "      <td>pollution air dérèglement crue consommation agriculture biodiversité disparition espèce biodiversité disparition espèce dérèglement crue biodiversité disparition espèce dérèglement crue dérèglement crue biodiversité disparition espèce problème ensemble puisqu biodiversité disparition espèce pollution acidifcation océan biodiversité problème problème pollution pollution air dérèglement crue</td>\n",
       "      <td>poids lourd exception transport centre ville véhicule véhicule livraison hydrogène expert pétrole an pétrole économie monde chaos choix pétrole pétrole pouvoir hui besoin solution déchet type maximum utilisation travail fusion solution masse hui agriculture subvention arrêt braconnage protection biotope concession zad lande pesticide importation déforestation environnement etat entreprise indi...</td>\n",
       "    </tr>\n",
       "    <tr>\n",
       "      <th>3</th>\n",
       "      <td>1110</td>\n",
       "      <td>santé proposition justice ruralité comportement civisme sens pollution air pollution nature santé environnement</td>\n",
       "      <td>dérèglement crue problème pollution air dérèglement crue dérèglement crue biodiversité disparition espèce pollution air dérèglement crue citoyen anture mac pesticide</td>\n",
       "      <td>convaincre sauvetage pose institution occurrence effort tendance besoin argent chose institution fmi argent pays exemple recherche fusion sacré avancée production b timent migre voiture effort conversion offerte france fmi miracle climat entreprise produit fonction coût carbone importation gratuité commun camion france train billet état exemple solution manière agriculture environnement produc...</td>\n",
       "    </tr>\n",
       "    <tr>\n",
       "      <th>4</th>\n",
       "      <td>1120</td>\n",
       "      <td>solution pollution travail prise responsabilité développement production consommation réduction dechet amelioration transport gratuité transport hypercentre hydrogene économie pollution entreprise transport transition exemple cite ecologie arme pollution arme pollution agriculture avenir transition solution solution</td>\n",
       "      <td>dérèglement crue pollution air dérèglement crue biodiversité disparition espèce dérèglement crue pollution air dérèglement crue dérèglement crue pollution air biodiversité pollution air point pollution jour nuit tête taxe carburant dérèglement crue dérèglement crue biodiversité disparition espèce biodiversité disparition espèce socle pollution climat biodiversité resoudre sens pièce salon déma...</td>\n",
       "      <td>eau effa cours eau niveau maximum période irrigation période pollueur pétrolier véhicule service fonctionnaire besoin protection président lorsqu débat camion avion centaine ministre heure matignon réponse utilisation travail nature braconnage tradition développement énergie hydrogène mode energie camion appartement maison transport fabrication retour matière produit avion transport citoyen so...</td>\n",
       "    </tr>\n",
       "  </tbody>\n",
       "</table>\n",
       "</div>"
      ],
      "text/plain": [
       "   authorZipCode  \\\n",
       "0           1000   \n",
       "1           1090   \n",
       "2           1100   \n",
       "3           1110   \n",
       "4           1120   \n",
       "\n",
       "                                                                                                                                                                                                                                                                                                                                                                                                             title  \\\n",
       "0  répartition transition action ferroutage plantation agriculteur transition suppression pesticide investissement budget transition transition transition argent prétexte protection environnement procédure déchet agriculteur industrie aise mutation véhicule culpabilisation ecologie police sauvon problème calendrier éducation transition circuit système consigne transition economie écologie punitiv...   \n",
       "1                                                                                                                                                                                                                                                                             vie village moyen chaudière fioul voiture décentralisation relocalisation production véhicule écologie cause transition urgence avis   \n",
       "2                                                                                                                                                                          pollution pétrole développement ecologie transport conscience vivre monde contribution pollution préservon maison urgence protection ere priorité pragamatique émotion recyclage agriculture liaison route transport marchandise pauvre   \n",
       "3                                                                                                                                                                                                                                                                                                  santé proposition justice ruralité comportement civisme sens pollution air pollution nature santé environnement   \n",
       "4                                                                                    solution pollution travail prise responsabilité développement production consommation réduction dechet amelioration transport gratuité transport hypercentre hydrogene économie pollution entreprise transport transition exemple cite ecologie arme pollution arme pollution agriculture avenir transition solution solution   \n",
       "\n",
       "                                                                                                                                                                                                                                                                                                                                                                                                          problems  \\\n",
       "0  dérèglement crue biodiversité disparition espèce pollution air dérèglement crue dérèglement crue dérèglement crue biodiversité disparition espèce problème pollution découle dérèglement crue pollution air emballage dérèglement crue dérèglement crue dérèglement crue precedente dérèglement crue dérèglement crue biodiversité disparition espèce biodiversité disparition espèce biodiversité dispariti...   \n",
       "1                                                                                                                                                                                                                                                                                           dérèglement crue pollution pollution air dérèglement crue dérèglement crue réponse production energie dérèglement crue   \n",
       "2         pollution air dérèglement crue consommation agriculture biodiversité disparition espèce biodiversité disparition espèce dérèglement crue biodiversité disparition espèce dérèglement crue dérèglement crue biodiversité disparition espèce problème ensemble puisqu biodiversité disparition espèce pollution acidifcation océan biodiversité problème problème pollution pollution air dérèglement crue   \n",
       "3                                                                                                                                                                                                                                            dérèglement crue problème pollution air dérèglement crue dérèglement crue biodiversité disparition espèce pollution air dérèglement crue citoyen anture mac pesticide   \n",
       "4  dérèglement crue pollution air dérèglement crue biodiversité disparition espèce dérèglement crue pollution air dérèglement crue dérèglement crue pollution air biodiversité pollution air point pollution jour nuit tête taxe carburant dérèglement crue dérèglement crue biodiversité disparition espèce biodiversité disparition espèce socle pollution climat biodiversité resoudre sens pièce salon déma...   \n",
       "\n",
       "                                                                                                                                                                                                                                                                                                                                                                                                  reponse_probleme  \n",
       "0  effort particulier industrie carbone acteur fonction émission manière intégralité transition installation éolien mer utilisation énergie empreinte carbone produit empreinte produit tva produit produit baisse tva sanction donnée empreinte carbone commerce carton bouteille air ciel environnement élevage viande eau toilette replanton haie entretenon interdison faison bassin retention eau transiti...  \n",
       "1                                                                                                                        source problème utilisation centralisation ville désertification augmentation nécessité voiture augmentation ville sanction pays consommation extraction énergie place écologie école place développement niveau utilisation solution énergie fin surconsommation fin bouteille industrie  \n",
       "2  poids lourd exception transport centre ville véhicule véhicule livraison hydrogène expert pétrole an pétrole économie monde chaos choix pétrole pétrole pouvoir hui besoin solution déchet type maximum utilisation travail fusion solution masse hui agriculture subvention arrêt braconnage protection biotope concession zad lande pesticide importation déforestation environnement etat entreprise indi...  \n",
       "3  convaincre sauvetage pose institution occurrence effort tendance besoin argent chose institution fmi argent pays exemple recherche fusion sacré avancée production b timent migre voiture effort conversion offerte france fmi miracle climat entreprise produit fonction coût carbone importation gratuité commun camion france train billet état exemple solution manière agriculture environnement produc...  \n",
       "4  eau effa cours eau niveau maximum période irrigation période pollueur pétrolier véhicule service fonctionnaire besoin protection président lorsqu débat camion avion centaine ministre heure matignon réponse utilisation travail nature braconnage tradition développement énergie hydrogène mode energie camion appartement maison transport fabrication retour matière produit avion transport citoyen so...  "
      ]
     },
     "execution_count": 25,
     "metadata": {},
     "output_type": "execute_result"
    }
   ],
   "source": [
    "### Group and lemmetize\n",
    "grouped_lemm_df = pd.DataFrame()\n",
    "\n",
    "grouped_lemm_df['authorZipCode'] = grouped_df['authorZipCode']\n",
    "grouped_lemm_df['title'] = lemmetize(grouped_df['title'])\n",
    "grouped_lemm_df['problems'] = lemmetize(grouped_df['problems'])\n",
    "grouped_lemm_df['reponse_probleme'] = lemmetize(grouped_df['reponse_probleme'])\n",
    "\n",
    "\n",
    "grouped_lemm_df.head()"
   ]
  },
  {
   "cell_type": "code",
   "execution_count": 26,
   "metadata": {
    "colab": {},
    "colab_type": "code",
    "id": "OexXn1o6DNpO"
   },
   "outputs": [],
   "source": [
    "grouped_lemm_df.to_csv('grouped_lemmetized.csv')"
   ]
  }
 ],
 "metadata": {
  "accelerator": "GPU",
  "colab": {
   "collapsed_sections": [],
   "name": "Clean_data_and_save_to_csv.ipynb",
   "provenance": [],
   "toc_visible": true,
   "version": "0.3.2"
  },
  "kernelspec": {
   "display_name": "Python 3",
   "language": "python",
   "name": "python3"
  },
  "language_info": {
   "codemirror_mode": {
    "name": "ipython",
    "version": 3
   },
   "file_extension": ".py",
   "mimetype": "text/x-python",
   "name": "python",
   "nbconvert_exporter": "python",
   "pygments_lexer": "ipython3",
   "version": "3.7.1"
  }
 },
 "nbformat": 4,
 "nbformat_minor": 1
}
